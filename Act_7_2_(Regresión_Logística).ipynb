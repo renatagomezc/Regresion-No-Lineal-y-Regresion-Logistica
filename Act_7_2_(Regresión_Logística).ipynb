{
  "nbformat": 4,
  "nbformat_minor": 0,
  "metadata": {
    "colab": {
      "provenance": [],
      "collapsed_sections": [
        "whljjahZVWyn"
      ],
      "toc_visible": true,
      "include_colab_link": true
    },
    "kernelspec": {
      "name": "python3",
      "display_name": "Python 3"
    },
    "language_info": {
      "name": "python"
    }
  },
  "cells": [
    {
      "cell_type": "markdown",
      "metadata": {
        "id": "view-in-github",
        "colab_type": "text"
      },
      "source": [
        "<a href=\"https://colab.research.google.com/github/renatagomezc/Regresion-No-Lineal-y-Regresion-Logistica/blob/main/Act_7_2_(Regresi%C3%B3n_Log%C3%ADstica).ipynb\" target=\"_parent\"><img src=\"https://colab.research.google.com/assets/colab-badge.svg\" alt=\"Open In Colab\"/></a>"
      ]
    },
    {
      "cell_type": "markdown",
      "source": [
        "#**Actividad 7.2 (Regresión Logística)**\n",
        "\n",
        "*Integrantes*\n",
        "- Carolina Solis Flores  A01708072\n",
        "- Maria Fernanda Martinez Ríos A01067198\n",
        "- Renata Pilar Gómez Castillo A01351806\n",
        "- Jose Ignacio Hernández Rodríguez A01703130"
      ],
      "metadata": {
        "id": "Rlh-NZMqVArb"
      }
    },
    {
      "cell_type": "code",
      "execution_count": 789,
      "metadata": {
        "id": "El2BP5VJUpWh"
      },
      "outputs": [],
      "source": [
        "#Cargamos librerias\n",
        "import pandas as pd\n",
        "import numpy as np\n",
        "import matplotlib.pyplot as plt\n",
        "import scipy.special as special\n",
        "from scipy.optimize import curve_fit\n",
        "import seaborn as sns\n",
        "from sklearn.metrics import r2_score\n",
        "from sklearn.model_selection import train_test_split\n",
        "from sklearn.preprocessing import StandardScaler"
      ]
    },
    {
      "cell_type": "code",
      "source": [
        "gastos_20 = pd.read_excel('gastos_c2020_clean.xlsx', index_col=0)\n",
        "gastos_21 = pd.read_excel('gastos_c2021_clean.xlsx', index_col=0)\n",
        "gastos_22 = pd.read_excel('gastos_c2022_clean.xlsx', index_col=0)\n",
        "gastos_23 = pd.read_excel('gastos_c2023_clean.xlsx',index_col=0)"
      ],
      "metadata": {
        "id": "38occ5yd5kT-"
      },
      "execution_count": 790,
      "outputs": []
    },
    {
      "cell_type": "code",
      "source": [
        "gastos_20.isnull().sum().sum()"
      ],
      "metadata": {
        "id": "iRvCZ1MzVP86",
        "outputId": "e6d70217-909d-4d11-d9cc-3bde7e745422",
        "colab": {
          "base_uri": "https://localhost:8080/"
        }
      },
      "execution_count": 791,
      "outputs": [
        {
          "output_type": "execute_result",
          "data": {
            "text/plain": [
              "0"
            ]
          },
          "metadata": {},
          "execution_count": 791
        }
      ]
    },
    {
      "cell_type": "code",
      "source": [
        "gastos_21.isnull().sum().sum()"
      ],
      "metadata": {
        "id": "MB4I1dXLVQ-y",
        "outputId": "8c0d5af1-12ac-427e-f6ac-46da7d362d35",
        "colab": {
          "base_uri": "https://localhost:8080/"
        }
      },
      "execution_count": 792,
      "outputs": [
        {
          "output_type": "execute_result",
          "data": {
            "text/plain": [
              "0"
            ]
          },
          "metadata": {},
          "execution_count": 792
        }
      ]
    },
    {
      "cell_type": "code",
      "source": [
        "gastos_22.isnull().sum().sum()"
      ],
      "metadata": {
        "id": "2x3DAEMNVR6O",
        "outputId": "0a9bab65-f2fa-4c90-fb30-dbd6b9b8e878",
        "colab": {
          "base_uri": "https://localhost:8080/"
        }
      },
      "execution_count": 793,
      "outputs": [
        {
          "output_type": "execute_result",
          "data": {
            "text/plain": [
              "0"
            ]
          },
          "metadata": {},
          "execution_count": 793
        }
      ]
    },
    {
      "cell_type": "code",
      "source": [
        "gastos_23.isnull().sum().sum()"
      ],
      "metadata": {
        "id": "kmAnVTIpVM4D",
        "outputId": "ef45cf05-f88d-47c3-b58c-b067e54f58a1",
        "colab": {
          "base_uri": "https://localhost:8080/"
        }
      },
      "execution_count": 794,
      "outputs": [
        {
          "output_type": "execute_result",
          "data": {
            "text/plain": [
              "0"
            ]
          },
          "metadata": {},
          "execution_count": 794
        }
      ]
    },
    {
      "cell_type": "code",
      "source": [
        "prec_ = []\n",
        "exac_ = []\n",
        "sensi_ = []\n",
        "f1_ = []\n",
        "año_ = ['2020','2021','2022','2023']\n",
        "x_ = ['TOTAL MX','TOTAL MX','TOTAL MX','TOTAL MX']\n",
        "y_ = ['TIPO GASTO','TIPO GASTO','TIPO GASTO','TIPO GASTO']"
      ],
      "metadata": {
        "id": "W9APKcwtU6oV"
      },
      "execution_count": 795,
      "outputs": []
    },
    {
      "cell_type": "markdown",
      "source": [
        "##**2020**"
      ],
      "metadata": {
        "id": "EZl_zmNrVUwf"
      }
    },
    {
      "cell_type": "code",
      "source": [
        "gastos_20['TIPO GASTO'].unique()"
      ],
      "metadata": {
        "id": "c8j-1F16bA4N",
        "colab": {
          "base_uri": "https://localhost:8080/"
        },
        "outputId": "569090d6-097d-4538-8d12-4055adf4fae3"
      },
      "execution_count": 796,
      "outputs": [
        {
          "output_type": "execute_result",
          "data": {
            "text/plain": [
              "array(['MAQUINARIA', 'COMISION BANCARIA', 'HONORARIOS CONTABLES',\n",
              "       'COMPRAS', 'MAQUILAS GIC', 'PAPELERIA', 'MTTO COMPUTO',\n",
              "       'ARRENDAMIENTO FINANCIERO', 'NO DEDUCIBLE', 'TELEFONO',\n",
              "       'MTTO LOCAL', 'PAQUETERIA', 'CAPACITACION', 'COMBUSTIBLE',\n",
              "       'REPARACIONES ELECTRICAS', 'ENERGIA ELECTRICA', 'DERECHOS',\n",
              "       'SEGUROS', 'CALIBRACIONES', 'TRANSPORTE', 'PEAJES', 'HOSPEDAJE',\n",
              "       'IMSS/INFONAVIT', 'COMISION VENTA', 'HONORARIOS ADMON',\n",
              "       'GERENCIA VTAS', 'VALES DESPENSA', 'UNIFORME', 'ALIMENTOS',\n",
              "       'ARRENDAMIENTO LOCAL', 'GERENCIA ADMON', 'SUSCRIPCIONES',\n",
              "       'MOBILIARIO', 'SUBCONTRATOS', 'MTTO TRANSPORTE', 'MEDICOS',\n",
              "       'PUBLICIDAD', 'FLETES', 'HONORARIOS PM', 'MENSAJERIA',\n",
              "       'ATENCION CLIENTES', 'SERV FUNERARIO '], dtype=object)"
            ]
          },
          "metadata": {},
          "execution_count": 796
        }
      ]
    },
    {
      "cell_type": "code",
      "source": [
        "#Variable dicotómica\n",
        "gastos_20['TIPO GASTO'] = np.where(gastos_20['TIPO GASTO']=='COMPRAS','COMPRAS',np.where(gastos_20['TIPO GASTO']=='COMPRAS ','COMPRAS','OTROS GASTOS'))"
      ],
      "metadata": {
        "id": "iyo1hNIP69WQ"
      },
      "execution_count": 797,
      "outputs": []
    },
    {
      "cell_type": "code",
      "source": [
        "gastos_20['TIPO GASTO'].unique()"
      ],
      "metadata": {
        "colab": {
          "base_uri": "https://localhost:8080/"
        },
        "id": "nhH47EqP6-go",
        "outputId": "dbd52ec0-12e2-411f-ccf2-9cb91028c740"
      },
      "execution_count": 798,
      "outputs": [
        {
          "output_type": "execute_result",
          "data": {
            "text/plain": [
              "array(['OTROS GASTOS', 'COMPRAS'], dtype=object)"
            ]
          },
          "metadata": {},
          "execution_count": 798
        }
      ]
    },
    {
      "cell_type": "code",
      "source": [
        "#Declaramos las variables dependientes e independientes para la regresión Logística\n",
        "Vars_Indep= gastos_20[['TOTAL MX']]\n",
        "Var_Dep= gastos_20['TIPO GASTO']"
      ],
      "metadata": {
        "id": "Yb6_Q1ZE6lWA"
      },
      "execution_count": 799,
      "outputs": []
    },
    {
      "cell_type": "code",
      "source": [
        "#Redefinimos las variables \n",
        "X= Vars_Indep\n",
        "y= Var_Dep"
      ],
      "metadata": {
        "id": "k5Xy98MH6lWB"
      },
      "execution_count": 800,
      "outputs": []
    },
    {
      "cell_type": "code",
      "source": [
        "#Dividimos el conjunto de datos en la parte de entrenamiento y prueba:\n",
        "X_train, X_test, y_train, y_test = train_test_split(X, y, test_size=0.3, random_state = 42)"
      ],
      "metadata": {
        "id": "F5c_0-FS6lWC"
      },
      "execution_count": 801,
      "outputs": []
    },
    {
      "cell_type": "code",
      "source": [
        "#Se escalan todos los datos\n",
        "escalar = StandardScaler()"
      ],
      "metadata": {
        "id": "FnObAQtQ6lWC"
      },
      "execution_count": 802,
      "outputs": []
    },
    {
      "cell_type": "code",
      "source": [
        "#Para realizar el escalamiento de las variables “X” tanto de entrenamiento como de prueba, utilizaremos fit_transform\n",
        "X_train = escalar.fit_transform(X_train)\n",
        "X_test = escalar.transform(X_test)"
      ],
      "metadata": {
        "id": "znM_hOlZ6lWD"
      },
      "execution_count": 803,
      "outputs": []
    },
    {
      "cell_type": "code",
      "source": [
        "#Definimos el algoritmo a utilizar\n",
        "from sklearn.linear_model import LogisticRegression\n",
        "algoritmo = LogisticRegression()"
      ],
      "metadata": {
        "id": "1vEodAZJ6lWD"
      },
      "execution_count": 804,
      "outputs": []
    },
    {
      "cell_type": "code",
      "source": [
        "#Entrenamos el modelo\n",
        "algoritmo.fit(X_train, y_train)"
      ],
      "metadata": {
        "colab": {
          "base_uri": "https://localhost:8080/",
          "height": 74
        },
        "outputId": "e1116aa7-13f8-42d0-d3eb-5b0815aee19a",
        "id": "hGhbYE3x6lWD"
      },
      "execution_count": 805,
      "outputs": [
        {
          "output_type": "execute_result",
          "data": {
            "text/plain": [
              "LogisticRegression()"
            ],
            "text/html": [
              "<style>#sk-container-id-41 {color: black;background-color: white;}#sk-container-id-41 pre{padding: 0;}#sk-container-id-41 div.sk-toggleable {background-color: white;}#sk-container-id-41 label.sk-toggleable__label {cursor: pointer;display: block;width: 100%;margin-bottom: 0;padding: 0.3em;box-sizing: border-box;text-align: center;}#sk-container-id-41 label.sk-toggleable__label-arrow:before {content: \"▸\";float: left;margin-right: 0.25em;color: #696969;}#sk-container-id-41 label.sk-toggleable__label-arrow:hover:before {color: black;}#sk-container-id-41 div.sk-estimator:hover label.sk-toggleable__label-arrow:before {color: black;}#sk-container-id-41 div.sk-toggleable__content {max-height: 0;max-width: 0;overflow: hidden;text-align: left;background-color: #f0f8ff;}#sk-container-id-41 div.sk-toggleable__content pre {margin: 0.2em;color: black;border-radius: 0.25em;background-color: #f0f8ff;}#sk-container-id-41 input.sk-toggleable__control:checked~div.sk-toggleable__content {max-height: 200px;max-width: 100%;overflow: auto;}#sk-container-id-41 input.sk-toggleable__control:checked~label.sk-toggleable__label-arrow:before {content: \"▾\";}#sk-container-id-41 div.sk-estimator input.sk-toggleable__control:checked~label.sk-toggleable__label {background-color: #d4ebff;}#sk-container-id-41 div.sk-label input.sk-toggleable__control:checked~label.sk-toggleable__label {background-color: #d4ebff;}#sk-container-id-41 input.sk-hidden--visually {border: 0;clip: rect(1px 1px 1px 1px);clip: rect(1px, 1px, 1px, 1px);height: 1px;margin: -1px;overflow: hidden;padding: 0;position: absolute;width: 1px;}#sk-container-id-41 div.sk-estimator {font-family: monospace;background-color: #f0f8ff;border: 1px dotted black;border-radius: 0.25em;box-sizing: border-box;margin-bottom: 0.5em;}#sk-container-id-41 div.sk-estimator:hover {background-color: #d4ebff;}#sk-container-id-41 div.sk-parallel-item::after {content: \"\";width: 100%;border-bottom: 1px solid gray;flex-grow: 1;}#sk-container-id-41 div.sk-label:hover label.sk-toggleable__label {background-color: #d4ebff;}#sk-container-id-41 div.sk-serial::before {content: \"\";position: absolute;border-left: 1px solid gray;box-sizing: border-box;top: 0;bottom: 0;left: 50%;z-index: 0;}#sk-container-id-41 div.sk-serial {display: flex;flex-direction: column;align-items: center;background-color: white;padding-right: 0.2em;padding-left: 0.2em;position: relative;}#sk-container-id-41 div.sk-item {position: relative;z-index: 1;}#sk-container-id-41 div.sk-parallel {display: flex;align-items: stretch;justify-content: center;background-color: white;position: relative;}#sk-container-id-41 div.sk-item::before, #sk-container-id-41 div.sk-parallel-item::before {content: \"\";position: absolute;border-left: 1px solid gray;box-sizing: border-box;top: 0;bottom: 0;left: 50%;z-index: -1;}#sk-container-id-41 div.sk-parallel-item {display: flex;flex-direction: column;z-index: 1;position: relative;background-color: white;}#sk-container-id-41 div.sk-parallel-item:first-child::after {align-self: flex-end;width: 50%;}#sk-container-id-41 div.sk-parallel-item:last-child::after {align-self: flex-start;width: 50%;}#sk-container-id-41 div.sk-parallel-item:only-child::after {width: 0;}#sk-container-id-41 div.sk-dashed-wrapped {border: 1px dashed gray;margin: 0 0.4em 0.5em 0.4em;box-sizing: border-box;padding-bottom: 0.4em;background-color: white;}#sk-container-id-41 div.sk-label label {font-family: monospace;font-weight: bold;display: inline-block;line-height: 1.2em;}#sk-container-id-41 div.sk-label-container {text-align: center;}#sk-container-id-41 div.sk-container {/* jupyter's `normalize.less` sets `[hidden] { display: none; }` but bootstrap.min.css set `[hidden] { display: none !important; }` so we also need the `!important` here to be able to override the default hidden behavior on the sphinx rendered scikit-learn.org. See: https://github.com/scikit-learn/scikit-learn/issues/21755 */display: inline-block !important;position: relative;}#sk-container-id-41 div.sk-text-repr-fallback {display: none;}</style><div id=\"sk-container-id-41\" class=\"sk-top-container\"><div class=\"sk-text-repr-fallback\"><pre>LogisticRegression()</pre><b>In a Jupyter environment, please rerun this cell to show the HTML representation or trust the notebook. <br />On GitHub, the HTML representation is unable to render, please try loading this page with nbviewer.org.</b></div><div class=\"sk-container\" hidden><div class=\"sk-item\"><div class=\"sk-estimator sk-toggleable\"><input class=\"sk-toggleable__control sk-hidden--visually\" id=\"sk-estimator-id-41\" type=\"checkbox\" checked><label for=\"sk-estimator-id-41\" class=\"sk-toggleable__label sk-toggleable__label-arrow\">LogisticRegression</label><div class=\"sk-toggleable__content\"><pre>LogisticRegression()</pre></div></div></div></div></div>"
            ]
          },
          "metadata": {},
          "execution_count": 805
        }
      ]
    },
    {
      "cell_type": "code",
      "source": [
        "#Realizamos una predicción\n",
        "y_pred = algoritmo.predict(X_test) \n",
        "y_pred"
      ],
      "metadata": {
        "colab": {
          "base_uri": "https://localhost:8080/"
        },
        "outputId": "986804f1-803a-49da-b18a-e38848f9f3f4",
        "id": "zkSFIuev6lWE"
      },
      "execution_count": 806,
      "outputs": [
        {
          "output_type": "execute_result",
          "data": {
            "text/plain": [
              "array(['OTROS GASTOS', 'OTROS GASTOS', 'OTROS GASTOS', 'OTROS GASTOS',\n",
              "       'OTROS GASTOS', 'OTROS GASTOS', 'OTROS GASTOS', 'OTROS GASTOS',\n",
              "       'OTROS GASTOS', 'OTROS GASTOS', 'OTROS GASTOS', 'OTROS GASTOS',\n",
              "       'OTROS GASTOS', 'OTROS GASTOS', 'OTROS GASTOS', 'OTROS GASTOS',\n",
              "       'OTROS GASTOS', 'OTROS GASTOS', 'OTROS GASTOS', 'OTROS GASTOS',\n",
              "       'OTROS GASTOS', 'OTROS GASTOS', 'OTROS GASTOS', 'OTROS GASTOS',\n",
              "       'OTROS GASTOS', 'OTROS GASTOS', 'OTROS GASTOS', 'OTROS GASTOS',\n",
              "       'OTROS GASTOS', 'OTROS GASTOS', 'OTROS GASTOS', 'OTROS GASTOS',\n",
              "       'OTROS GASTOS', 'OTROS GASTOS', 'OTROS GASTOS', 'OTROS GASTOS',\n",
              "       'OTROS GASTOS', 'OTROS GASTOS', 'OTROS GASTOS', 'OTROS GASTOS',\n",
              "       'OTROS GASTOS', 'OTROS GASTOS', 'OTROS GASTOS', 'OTROS GASTOS',\n",
              "       'OTROS GASTOS', 'OTROS GASTOS', 'OTROS GASTOS', 'OTROS GASTOS',\n",
              "       'OTROS GASTOS', 'OTROS GASTOS', 'OTROS GASTOS', 'OTROS GASTOS',\n",
              "       'OTROS GASTOS', 'OTROS GASTOS', 'OTROS GASTOS', 'OTROS GASTOS',\n",
              "       'OTROS GASTOS', 'OTROS GASTOS', 'OTROS GASTOS', 'OTROS GASTOS',\n",
              "       'OTROS GASTOS', 'OTROS GASTOS', 'OTROS GASTOS', 'OTROS GASTOS',\n",
              "       'OTROS GASTOS', 'OTROS GASTOS', 'OTROS GASTOS', 'OTROS GASTOS',\n",
              "       'OTROS GASTOS', 'OTROS GASTOS', 'OTROS GASTOS', 'OTROS GASTOS',\n",
              "       'OTROS GASTOS', 'OTROS GASTOS', 'OTROS GASTOS', 'OTROS GASTOS',\n",
              "       'OTROS GASTOS', 'OTROS GASTOS', 'OTROS GASTOS', 'OTROS GASTOS',\n",
              "       'OTROS GASTOS', 'OTROS GASTOS', 'OTROS GASTOS', 'OTROS GASTOS',\n",
              "       'OTROS GASTOS', 'OTROS GASTOS', 'OTROS GASTOS', 'OTROS GASTOS',\n",
              "       'OTROS GASTOS', 'OTROS GASTOS', 'OTROS GASTOS', 'OTROS GASTOS',\n",
              "       'OTROS GASTOS', 'OTROS GASTOS', 'OTROS GASTOS', 'OTROS GASTOS',\n",
              "       'OTROS GASTOS', 'OTROS GASTOS', 'OTROS GASTOS', 'OTROS GASTOS',\n",
              "       'OTROS GASTOS', 'OTROS GASTOS', 'OTROS GASTOS', 'OTROS GASTOS',\n",
              "       'OTROS GASTOS', 'OTROS GASTOS', 'OTROS GASTOS', 'OTROS GASTOS',\n",
              "       'OTROS GASTOS', 'OTROS GASTOS', 'OTROS GASTOS', 'OTROS GASTOS',\n",
              "       'OTROS GASTOS', 'OTROS GASTOS', 'OTROS GASTOS', 'OTROS GASTOS',\n",
              "       'OTROS GASTOS', 'OTROS GASTOS', 'OTROS GASTOS', 'OTROS GASTOS',\n",
              "       'OTROS GASTOS', 'OTROS GASTOS', 'OTROS GASTOS', 'OTROS GASTOS',\n",
              "       'OTROS GASTOS', 'OTROS GASTOS', 'OTROS GASTOS', 'OTROS GASTOS',\n",
              "       'OTROS GASTOS', 'OTROS GASTOS', 'OTROS GASTOS', 'OTROS GASTOS',\n",
              "       'OTROS GASTOS', 'OTROS GASTOS', 'OTROS GASTOS', 'OTROS GASTOS',\n",
              "       'OTROS GASTOS', 'OTROS GASTOS', 'OTROS GASTOS', 'OTROS GASTOS',\n",
              "       'OTROS GASTOS', 'OTROS GASTOS', 'OTROS GASTOS', 'OTROS GASTOS',\n",
              "       'OTROS GASTOS', 'OTROS GASTOS', 'OTROS GASTOS', 'OTROS GASTOS',\n",
              "       'OTROS GASTOS', 'OTROS GASTOS', 'OTROS GASTOS', 'OTROS GASTOS',\n",
              "       'OTROS GASTOS', 'OTROS GASTOS', 'OTROS GASTOS', 'OTROS GASTOS',\n",
              "       'OTROS GASTOS', 'OTROS GASTOS', 'OTROS GASTOS', 'OTROS GASTOS',\n",
              "       'OTROS GASTOS', 'OTROS GASTOS', 'OTROS GASTOS', 'OTROS GASTOS',\n",
              "       'OTROS GASTOS', 'OTROS GASTOS', 'OTROS GASTOS', 'OTROS GASTOS',\n",
              "       'OTROS GASTOS', 'OTROS GASTOS', 'OTROS GASTOS', 'OTROS GASTOS',\n",
              "       'OTROS GASTOS', 'OTROS GASTOS', 'OTROS GASTOS', 'OTROS GASTOS',\n",
              "       'OTROS GASTOS', 'OTROS GASTOS', 'OTROS GASTOS', 'OTROS GASTOS',\n",
              "       'OTROS GASTOS', 'OTROS GASTOS', 'OTROS GASTOS', 'OTROS GASTOS',\n",
              "       'OTROS GASTOS', 'OTROS GASTOS', 'OTROS GASTOS', 'OTROS GASTOS',\n",
              "       'OTROS GASTOS', 'OTROS GASTOS', 'OTROS GASTOS', 'OTROS GASTOS',\n",
              "       'OTROS GASTOS', 'OTROS GASTOS', 'OTROS GASTOS', 'OTROS GASTOS',\n",
              "       'OTROS GASTOS', 'OTROS GASTOS', 'OTROS GASTOS', 'OTROS GASTOS',\n",
              "       'OTROS GASTOS', 'OTROS GASTOS', 'OTROS GASTOS', 'OTROS GASTOS',\n",
              "       'OTROS GASTOS', 'OTROS GASTOS', 'OTROS GASTOS', 'OTROS GASTOS',\n",
              "       'OTROS GASTOS', 'OTROS GASTOS', 'OTROS GASTOS', 'OTROS GASTOS',\n",
              "       'OTROS GASTOS', 'OTROS GASTOS', 'OTROS GASTOS', 'OTROS GASTOS',\n",
              "       'OTROS GASTOS', 'OTROS GASTOS', 'OTROS GASTOS', 'OTROS GASTOS',\n",
              "       'OTROS GASTOS', 'OTROS GASTOS', 'OTROS GASTOS', 'OTROS GASTOS',\n",
              "       'OTROS GASTOS', 'OTROS GASTOS', 'OTROS GASTOS', 'OTROS GASTOS',\n",
              "       'OTROS GASTOS', 'OTROS GASTOS', 'OTROS GASTOS', 'OTROS GASTOS',\n",
              "       'OTROS GASTOS', 'OTROS GASTOS', 'OTROS GASTOS', 'OTROS GASTOS',\n",
              "       'OTROS GASTOS', 'OTROS GASTOS', 'OTROS GASTOS', 'OTROS GASTOS',\n",
              "       'OTROS GASTOS', 'OTROS GASTOS', 'OTROS GASTOS', 'OTROS GASTOS',\n",
              "       'OTROS GASTOS', 'OTROS GASTOS', 'OTROS GASTOS', 'OTROS GASTOS',\n",
              "       'OTROS GASTOS', 'OTROS GASTOS', 'OTROS GASTOS', 'OTROS GASTOS',\n",
              "       'OTROS GASTOS', 'OTROS GASTOS', 'OTROS GASTOS', 'OTROS GASTOS',\n",
              "       'OTROS GASTOS', 'OTROS GASTOS', 'OTROS GASTOS', 'OTROS GASTOS',\n",
              "       'OTROS GASTOS', 'OTROS GASTOS', 'OTROS GASTOS', 'OTROS GASTOS',\n",
              "       'OTROS GASTOS', 'OTROS GASTOS', 'OTROS GASTOS', 'OTROS GASTOS',\n",
              "       'OTROS GASTOS', 'OTROS GASTOS', 'OTROS GASTOS', 'OTROS GASTOS',\n",
              "       'OTROS GASTOS', 'OTROS GASTOS', 'OTROS GASTOS', 'OTROS GASTOS',\n",
              "       'OTROS GASTOS', 'OTROS GASTOS', 'OTROS GASTOS', 'OTROS GASTOS',\n",
              "       'OTROS GASTOS', 'OTROS GASTOS', 'OTROS GASTOS', 'OTROS GASTOS',\n",
              "       'OTROS GASTOS', 'OTROS GASTOS', 'OTROS GASTOS', 'OTROS GASTOS',\n",
              "       'OTROS GASTOS', 'OTROS GASTOS', 'OTROS GASTOS', 'OTROS GASTOS',\n",
              "       'OTROS GASTOS', 'OTROS GASTOS', 'OTROS GASTOS', 'OTROS GASTOS',\n",
              "       'OTROS GASTOS', 'OTROS GASTOS', 'OTROS GASTOS', 'OTROS GASTOS',\n",
              "       'OTROS GASTOS', 'OTROS GASTOS', 'OTROS GASTOS', 'OTROS GASTOS',\n",
              "       'OTROS GASTOS', 'OTROS GASTOS', 'OTROS GASTOS', 'OTROS GASTOS',\n",
              "       'OTROS GASTOS', 'OTROS GASTOS', 'OTROS GASTOS', 'OTROS GASTOS',\n",
              "       'OTROS GASTOS', 'OTROS GASTOS', 'OTROS GASTOS', 'OTROS GASTOS',\n",
              "       'OTROS GASTOS', 'OTROS GASTOS', 'OTROS GASTOS', 'OTROS GASTOS',\n",
              "       'OTROS GASTOS', 'OTROS GASTOS', 'OTROS GASTOS', 'OTROS GASTOS',\n",
              "       'OTROS GASTOS', 'OTROS GASTOS', 'OTROS GASTOS', 'OTROS GASTOS',\n",
              "       'OTROS GASTOS', 'OTROS GASTOS', 'OTROS GASTOS', 'OTROS GASTOS',\n",
              "       'OTROS GASTOS', 'OTROS GASTOS', 'OTROS GASTOS', 'OTROS GASTOS',\n",
              "       'OTROS GASTOS', 'OTROS GASTOS', 'OTROS GASTOS', 'OTROS GASTOS',\n",
              "       'OTROS GASTOS', 'OTROS GASTOS', 'OTROS GASTOS', 'OTROS GASTOS',\n",
              "       'OTROS GASTOS', 'OTROS GASTOS', 'OTROS GASTOS', 'OTROS GASTOS',\n",
              "       'OTROS GASTOS', 'OTROS GASTOS', 'OTROS GASTOS', 'OTROS GASTOS',\n",
              "       'OTROS GASTOS', 'OTROS GASTOS', 'OTROS GASTOS', 'OTROS GASTOS',\n",
              "       'OTROS GASTOS', 'OTROS GASTOS', 'OTROS GASTOS', 'OTROS GASTOS',\n",
              "       'OTROS GASTOS', 'OTROS GASTOS', 'OTROS GASTOS', 'OTROS GASTOS',\n",
              "       'OTROS GASTOS', 'OTROS GASTOS', 'OTROS GASTOS', 'OTROS GASTOS',\n",
              "       'OTROS GASTOS', 'OTROS GASTOS', 'OTROS GASTOS', 'OTROS GASTOS',\n",
              "       'OTROS GASTOS', 'OTROS GASTOS', 'OTROS GASTOS', 'OTROS GASTOS',\n",
              "       'OTROS GASTOS', 'OTROS GASTOS', 'OTROS GASTOS', 'OTROS GASTOS',\n",
              "       'OTROS GASTOS', 'OTROS GASTOS', 'OTROS GASTOS', 'OTROS GASTOS',\n",
              "       'OTROS GASTOS', 'OTROS GASTOS', 'OTROS GASTOS', 'OTROS GASTOS',\n",
              "       'OTROS GASTOS', 'OTROS GASTOS', 'OTROS GASTOS', 'OTROS GASTOS',\n",
              "       'OTROS GASTOS', 'OTROS GASTOS', 'OTROS GASTOS', 'OTROS GASTOS',\n",
              "       'OTROS GASTOS', 'OTROS GASTOS', 'OTROS GASTOS', 'OTROS GASTOS',\n",
              "       'OTROS GASTOS', 'OTROS GASTOS', 'OTROS GASTOS', 'OTROS GASTOS',\n",
              "       'OTROS GASTOS', 'OTROS GASTOS', 'OTROS GASTOS', 'OTROS GASTOS',\n",
              "       'OTROS GASTOS', 'OTROS GASTOS', 'OTROS GASTOS', 'OTROS GASTOS',\n",
              "       'OTROS GASTOS', 'OTROS GASTOS', 'OTROS GASTOS', 'OTROS GASTOS',\n",
              "       'OTROS GASTOS', 'OTROS GASTOS', 'OTROS GASTOS', 'OTROS GASTOS',\n",
              "       'OTROS GASTOS', 'OTROS GASTOS', 'OTROS GASTOS', 'OTROS GASTOS',\n",
              "       'OTROS GASTOS', 'OTROS GASTOS', 'OTROS GASTOS', 'OTROS GASTOS',\n",
              "       'OTROS GASTOS', 'OTROS GASTOS', 'OTROS GASTOS', 'OTROS GASTOS',\n",
              "       'OTROS GASTOS', 'OTROS GASTOS', 'OTROS GASTOS', 'OTROS GASTOS',\n",
              "       'OTROS GASTOS', 'OTROS GASTOS', 'OTROS GASTOS', 'OTROS GASTOS',\n",
              "       'OTROS GASTOS', 'OTROS GASTOS', 'OTROS GASTOS', 'OTROS GASTOS',\n",
              "       'OTROS GASTOS', 'OTROS GASTOS', 'OTROS GASTOS', 'OTROS GASTOS',\n",
              "       'OTROS GASTOS', 'OTROS GASTOS', 'OTROS GASTOS', 'OTROS GASTOS',\n",
              "       'OTROS GASTOS', 'OTROS GASTOS', 'OTROS GASTOS', 'OTROS GASTOS',\n",
              "       'OTROS GASTOS', 'OTROS GASTOS', 'OTROS GASTOS', 'OTROS GASTOS',\n",
              "       'OTROS GASTOS', 'OTROS GASTOS', 'OTROS GASTOS', 'OTROS GASTOS',\n",
              "       'OTROS GASTOS', 'OTROS GASTOS', 'OTROS GASTOS', 'OTROS GASTOS',\n",
              "       'OTROS GASTOS', 'OTROS GASTOS', 'OTROS GASTOS', 'OTROS GASTOS',\n",
              "       'OTROS GASTOS', 'OTROS GASTOS', 'OTROS GASTOS', 'OTROS GASTOS',\n",
              "       'OTROS GASTOS', 'OTROS GASTOS', 'OTROS GASTOS', 'OTROS GASTOS',\n",
              "       'OTROS GASTOS', 'OTROS GASTOS', 'OTROS GASTOS', 'OTROS GASTOS',\n",
              "       'OTROS GASTOS', 'OTROS GASTOS', 'OTROS GASTOS', 'OTROS GASTOS',\n",
              "       'OTROS GASTOS', 'OTROS GASTOS', 'OTROS GASTOS', 'OTROS GASTOS',\n",
              "       'OTROS GASTOS', 'OTROS GASTOS', 'OTROS GASTOS', 'OTROS GASTOS',\n",
              "       'OTROS GASTOS', 'OTROS GASTOS', 'OTROS GASTOS', 'OTROS GASTOS',\n",
              "       'OTROS GASTOS', 'OTROS GASTOS', 'OTROS GASTOS', 'OTROS GASTOS',\n",
              "       'OTROS GASTOS', 'OTROS GASTOS', 'OTROS GASTOS', 'OTROS GASTOS',\n",
              "       'OTROS GASTOS', 'OTROS GASTOS', 'OTROS GASTOS', 'OTROS GASTOS',\n",
              "       'OTROS GASTOS', 'OTROS GASTOS', 'OTROS GASTOS', 'OTROS GASTOS',\n",
              "       'OTROS GASTOS', 'OTROS GASTOS', 'OTROS GASTOS', 'OTROS GASTOS',\n",
              "       'OTROS GASTOS', 'OTROS GASTOS', 'OTROS GASTOS', 'OTROS GASTOS',\n",
              "       'OTROS GASTOS', 'OTROS GASTOS', 'OTROS GASTOS', 'OTROS GASTOS',\n",
              "       'OTROS GASTOS', 'OTROS GASTOS', 'OTROS GASTOS', 'OTROS GASTOS',\n",
              "       'OTROS GASTOS', 'OTROS GASTOS', 'OTROS GASTOS', 'OTROS GASTOS',\n",
              "       'OTROS GASTOS', 'OTROS GASTOS', 'OTROS GASTOS', 'OTROS GASTOS',\n",
              "       'OTROS GASTOS', 'OTROS GASTOS', 'OTROS GASTOS', 'OTROS GASTOS',\n",
              "       'OTROS GASTOS', 'OTROS GASTOS', 'OTROS GASTOS', 'OTROS GASTOS',\n",
              "       'OTROS GASTOS', 'OTROS GASTOS', 'OTROS GASTOS', 'OTROS GASTOS',\n",
              "       'OTROS GASTOS', 'OTROS GASTOS', 'OTROS GASTOS', 'OTROS GASTOS',\n",
              "       'OTROS GASTOS', 'OTROS GASTOS', 'OTROS GASTOS', 'OTROS GASTOS',\n",
              "       'OTROS GASTOS', 'OTROS GASTOS', 'OTROS GASTOS', 'OTROS GASTOS',\n",
              "       'OTROS GASTOS', 'OTROS GASTOS', 'OTROS GASTOS', 'OTROS GASTOS',\n",
              "       'OTROS GASTOS', 'OTROS GASTOS', 'OTROS GASTOS', 'OTROS GASTOS',\n",
              "       'OTROS GASTOS', 'OTROS GASTOS', 'OTROS GASTOS', 'OTROS GASTOS',\n",
              "       'OTROS GASTOS', 'OTROS GASTOS', 'OTROS GASTOS', 'OTROS GASTOS',\n",
              "       'OTROS GASTOS', 'OTROS GASTOS', 'OTROS GASTOS', 'OTROS GASTOS',\n",
              "       'OTROS GASTOS', 'OTROS GASTOS', 'OTROS GASTOS', 'OTROS GASTOS',\n",
              "       'OTROS GASTOS', 'OTROS GASTOS', 'OTROS GASTOS', 'OTROS GASTOS',\n",
              "       'OTROS GASTOS', 'OTROS GASTOS', 'OTROS GASTOS', 'OTROS GASTOS',\n",
              "       'OTROS GASTOS', 'OTROS GASTOS', 'OTROS GASTOS', 'OTROS GASTOS',\n",
              "       'OTROS GASTOS', 'OTROS GASTOS', 'OTROS GASTOS', 'OTROS GASTOS',\n",
              "       'OTROS GASTOS', 'OTROS GASTOS', 'OTROS GASTOS', 'OTROS GASTOS',\n",
              "       'OTROS GASTOS', 'OTROS GASTOS', 'OTROS GASTOS', 'OTROS GASTOS',\n",
              "       'OTROS GASTOS', 'OTROS GASTOS', 'OTROS GASTOS', 'OTROS GASTOS',\n",
              "       'OTROS GASTOS', 'OTROS GASTOS', 'OTROS GASTOS', 'OTROS GASTOS',\n",
              "       'OTROS GASTOS', 'OTROS GASTOS', 'OTROS GASTOS', 'OTROS GASTOS',\n",
              "       'OTROS GASTOS', 'OTROS GASTOS', 'OTROS GASTOS', 'OTROS GASTOS',\n",
              "       'OTROS GASTOS', 'OTROS GASTOS', 'OTROS GASTOS', 'OTROS GASTOS',\n",
              "       'OTROS GASTOS', 'OTROS GASTOS', 'OTROS GASTOS', 'OTROS GASTOS',\n",
              "       'OTROS GASTOS', 'OTROS GASTOS', 'OTROS GASTOS', 'OTROS GASTOS',\n",
              "       'OTROS GASTOS', 'OTROS GASTOS', 'OTROS GASTOS', 'OTROS GASTOS',\n",
              "       'OTROS GASTOS', 'OTROS GASTOS', 'OTROS GASTOS', 'OTROS GASTOS',\n",
              "       'OTROS GASTOS', 'OTROS GASTOS', 'OTROS GASTOS', 'OTROS GASTOS',\n",
              "       'OTROS GASTOS', 'OTROS GASTOS', 'OTROS GASTOS', 'OTROS GASTOS',\n",
              "       'OTROS GASTOS', 'OTROS GASTOS', 'OTROS GASTOS', 'OTROS GASTOS',\n",
              "       'OTROS GASTOS', 'OTROS GASTOS', 'OTROS GASTOS', 'OTROS GASTOS',\n",
              "       'OTROS GASTOS', 'OTROS GASTOS', 'OTROS GASTOS', 'OTROS GASTOS',\n",
              "       'OTROS GASTOS', 'OTROS GASTOS', 'OTROS GASTOS', 'OTROS GASTOS',\n",
              "       'OTROS GASTOS', 'OTROS GASTOS', 'OTROS GASTOS', 'OTROS GASTOS',\n",
              "       'OTROS GASTOS', 'OTROS GASTOS', 'OTROS GASTOS', 'OTROS GASTOS',\n",
              "       'OTROS GASTOS', 'OTROS GASTOS', 'OTROS GASTOS', 'OTROS GASTOS',\n",
              "       'OTROS GASTOS', 'OTROS GASTOS', 'OTROS GASTOS', 'OTROS GASTOS',\n",
              "       'OTROS GASTOS', 'OTROS GASTOS', 'OTROS GASTOS', 'OTROS GASTOS',\n",
              "       'OTROS GASTOS', 'OTROS GASTOS', 'OTROS GASTOS', 'OTROS GASTOS',\n",
              "       'OTROS GASTOS', 'OTROS GASTOS', 'OTROS GASTOS', 'OTROS GASTOS',\n",
              "       'OTROS GASTOS', 'OTROS GASTOS', 'OTROS GASTOS', 'OTROS GASTOS',\n",
              "       'OTROS GASTOS', 'OTROS GASTOS', 'OTROS GASTOS', 'OTROS GASTOS',\n",
              "       'OTROS GASTOS', 'OTROS GASTOS', 'OTROS GASTOS', 'OTROS GASTOS',\n",
              "       'OTROS GASTOS', 'OTROS GASTOS', 'OTROS GASTOS', 'OTROS GASTOS',\n",
              "       'OTROS GASTOS', 'OTROS GASTOS', 'OTROS GASTOS', 'OTROS GASTOS',\n",
              "       'OTROS GASTOS', 'OTROS GASTOS', 'OTROS GASTOS', 'OTROS GASTOS',\n",
              "       'OTROS GASTOS', 'OTROS GASTOS', 'OTROS GASTOS', 'OTROS GASTOS',\n",
              "       'OTROS GASTOS', 'OTROS GASTOS', 'OTROS GASTOS', 'OTROS GASTOS',\n",
              "       'OTROS GASTOS', 'OTROS GASTOS', 'OTROS GASTOS', 'OTROS GASTOS',\n",
              "       'OTROS GASTOS', 'OTROS GASTOS', 'OTROS GASTOS', 'OTROS GASTOS',\n",
              "       'OTROS GASTOS', 'OTROS GASTOS', 'OTROS GASTOS', 'OTROS GASTOS',\n",
              "       'OTROS GASTOS', 'OTROS GASTOS', 'OTROS GASTOS', 'OTROS GASTOS',\n",
              "       'OTROS GASTOS', 'OTROS GASTOS', 'OTROS GASTOS', 'OTROS GASTOS',\n",
              "       'OTROS GASTOS', 'OTROS GASTOS', 'OTROS GASTOS', 'OTROS GASTOS',\n",
              "       'OTROS GASTOS', 'OTROS GASTOS', 'OTROS GASTOS', 'OTROS GASTOS',\n",
              "       'OTROS GASTOS', 'OTROS GASTOS', 'OTROS GASTOS', 'OTROS GASTOS',\n",
              "       'OTROS GASTOS', 'OTROS GASTOS', 'OTROS GASTOS', 'OTROS GASTOS',\n",
              "       'OTROS GASTOS', 'OTROS GASTOS', 'OTROS GASTOS', 'OTROS GASTOS',\n",
              "       'OTROS GASTOS', 'OTROS GASTOS', 'OTROS GASTOS', 'OTROS GASTOS',\n",
              "       'OTROS GASTOS', 'OTROS GASTOS', 'OTROS GASTOS', 'OTROS GASTOS',\n",
              "       'OTROS GASTOS', 'OTROS GASTOS', 'OTROS GASTOS', 'OTROS GASTOS',\n",
              "       'OTROS GASTOS', 'OTROS GASTOS', 'OTROS GASTOS', 'OTROS GASTOS',\n",
              "       'OTROS GASTOS', 'OTROS GASTOS', 'OTROS GASTOS', 'OTROS GASTOS',\n",
              "       'OTROS GASTOS', 'OTROS GASTOS', 'OTROS GASTOS', 'OTROS GASTOS',\n",
              "       'OTROS GASTOS', 'OTROS GASTOS', 'OTROS GASTOS', 'OTROS GASTOS',\n",
              "       'OTROS GASTOS', 'OTROS GASTOS', 'OTROS GASTOS', 'OTROS GASTOS',\n",
              "       'OTROS GASTOS', 'OTROS GASTOS', 'OTROS GASTOS', 'OTROS GASTOS',\n",
              "       'OTROS GASTOS', 'OTROS GASTOS', 'OTROS GASTOS', 'OTROS GASTOS',\n",
              "       'OTROS GASTOS', 'OTROS GASTOS', 'OTROS GASTOS', 'OTROS GASTOS',\n",
              "       'OTROS GASTOS', 'OTROS GASTOS', 'OTROS GASTOS', 'OTROS GASTOS',\n",
              "       'OTROS GASTOS', 'OTROS GASTOS', 'OTROS GASTOS', 'OTROS GASTOS',\n",
              "       'OTROS GASTOS', 'OTROS GASTOS', 'OTROS GASTOS', 'OTROS GASTOS',\n",
              "       'OTROS GASTOS', 'OTROS GASTOS', 'OTROS GASTOS', 'OTROS GASTOS',\n",
              "       'OTROS GASTOS', 'OTROS GASTOS', 'OTROS GASTOS', 'OTROS GASTOS',\n",
              "       'OTROS GASTOS', 'OTROS GASTOS', 'OTROS GASTOS', 'OTROS GASTOS',\n",
              "       'OTROS GASTOS', 'OTROS GASTOS', 'OTROS GASTOS', 'OTROS GASTOS',\n",
              "       'OTROS GASTOS', 'OTROS GASTOS', 'OTROS GASTOS', 'OTROS GASTOS',\n",
              "       'OTROS GASTOS', 'OTROS GASTOS', 'OTROS GASTOS', 'OTROS GASTOS',\n",
              "       'OTROS GASTOS', 'OTROS GASTOS', 'OTROS GASTOS', 'OTROS GASTOS',\n",
              "       'OTROS GASTOS', 'OTROS GASTOS', 'OTROS GASTOS', 'OTROS GASTOS',\n",
              "       'OTROS GASTOS', 'OTROS GASTOS', 'OTROS GASTOS', 'OTROS GASTOS',\n",
              "       'OTROS GASTOS', 'OTROS GASTOS', 'OTROS GASTOS', 'OTROS GASTOS',\n",
              "       'OTROS GASTOS', 'OTROS GASTOS', 'OTROS GASTOS', 'OTROS GASTOS',\n",
              "       'OTROS GASTOS', 'COMPRAS', 'OTROS GASTOS', 'OTROS GASTOS',\n",
              "       'OTROS GASTOS', 'OTROS GASTOS', 'OTROS GASTOS', 'OTROS GASTOS',\n",
              "       'OTROS GASTOS', 'OTROS GASTOS', 'OTROS GASTOS', 'OTROS GASTOS',\n",
              "       'OTROS GASTOS', 'OTROS GASTOS', 'OTROS GASTOS', 'OTROS GASTOS',\n",
              "       'OTROS GASTOS', 'OTROS GASTOS', 'OTROS GASTOS', 'OTROS GASTOS',\n",
              "       'OTROS GASTOS', 'OTROS GASTOS', 'OTROS GASTOS', 'OTROS GASTOS',\n",
              "       'OTROS GASTOS', 'OTROS GASTOS', 'OTROS GASTOS', 'OTROS GASTOS',\n",
              "       'OTROS GASTOS', 'OTROS GASTOS', 'OTROS GASTOS', 'OTROS GASTOS',\n",
              "       'OTROS GASTOS', 'OTROS GASTOS', 'OTROS GASTOS', 'OTROS GASTOS',\n",
              "       'OTROS GASTOS', 'OTROS GASTOS', 'OTROS GASTOS', 'OTROS GASTOS',\n",
              "       'OTROS GASTOS', 'OTROS GASTOS', 'OTROS GASTOS', 'OTROS GASTOS',\n",
              "       'OTROS GASTOS', 'OTROS GASTOS', 'OTROS GASTOS', 'OTROS GASTOS',\n",
              "       'OTROS GASTOS', 'OTROS GASTOS', 'OTROS GASTOS', 'OTROS GASTOS',\n",
              "       'OTROS GASTOS', 'OTROS GASTOS', 'OTROS GASTOS', 'OTROS GASTOS',\n",
              "       'OTROS GASTOS', 'OTROS GASTOS', 'OTROS GASTOS', 'OTROS GASTOS',\n",
              "       'OTROS GASTOS', 'OTROS GASTOS', 'OTROS GASTOS', 'OTROS GASTOS',\n",
              "       'OTROS GASTOS', 'OTROS GASTOS', 'OTROS GASTOS', 'OTROS GASTOS',\n",
              "       'OTROS GASTOS', 'OTROS GASTOS', 'OTROS GASTOS', 'OTROS GASTOS',\n",
              "       'OTROS GASTOS', 'OTROS GASTOS', 'OTROS GASTOS', 'OTROS GASTOS',\n",
              "       'OTROS GASTOS', 'OTROS GASTOS', 'OTROS GASTOS', 'OTROS GASTOS',\n",
              "       'OTROS GASTOS', 'OTROS GASTOS', 'OTROS GASTOS', 'OTROS GASTOS',\n",
              "       'OTROS GASTOS', 'OTROS GASTOS', 'OTROS GASTOS', 'OTROS GASTOS',\n",
              "       'OTROS GASTOS', 'OTROS GASTOS', 'OTROS GASTOS', 'OTROS GASTOS',\n",
              "       'OTROS GASTOS', 'OTROS GASTOS', 'OTROS GASTOS', 'OTROS GASTOS',\n",
              "       'OTROS GASTOS', 'OTROS GASTOS', 'OTROS GASTOS', 'OTROS GASTOS',\n",
              "       'OTROS GASTOS', 'OTROS GASTOS', 'OTROS GASTOS', 'OTROS GASTOS',\n",
              "       'OTROS GASTOS', 'OTROS GASTOS', 'OTROS GASTOS', 'OTROS GASTOS'],\n",
              "      dtype=object)"
            ]
          },
          "metadata": {},
          "execution_count": 806
        }
      ]
    },
    {
      "cell_type": "code",
      "source": [
        "#Verifico la matriz de Confusión\n",
        "from sklearn.metrics import confusion_matrix\n",
        "matriz = confusion_matrix(y_test, y_pred)\n",
        "print('Matriz de Confusión:')\n",
        "print(matriz)"
      ],
      "metadata": {
        "colab": {
          "base_uri": "https://localhost:8080/"
        },
        "outputId": "469de261-edbb-4695-9a4e-0767c2670f6f",
        "id": "RENsMapk6lWE"
      },
      "execution_count": 807,
      "outputs": [
        {
          "output_type": "stream",
          "name": "stdout",
          "text": [
            "Matriz de Confusión:\n",
            "[[  0 441]\n",
            " [  1 538]]\n"
          ]
        }
      ]
    },
    {
      "cell_type": "code",
      "source": [
        "#Calculo la precisión del modelo\n",
        "from sklearn.metrics import precision_score\n",
        "\n",
        "precision = precision_score(y_test, y_pred, average=\"binary\", pos_label=\"COMPRAS\")\n",
        "print('Precisión del modelo:')\n",
        "prec_.append(precision)\n",
        "print(precision)"
      ],
      "metadata": {
        "colab": {
          "base_uri": "https://localhost:8080/"
        },
        "outputId": "3f20e54e-8af7-4324-a366-107c06fd5155",
        "id": "jyv_zJ1N6lWF"
      },
      "execution_count": 808,
      "outputs": [
        {
          "output_type": "stream",
          "name": "stdout",
          "text": [
            "Precisión del modelo:\n",
            "0.0\n"
          ]
        }
      ]
    },
    {
      "cell_type": "code",
      "source": [
        "#Calculo la exactitud del modelo\n",
        "from sklearn.metrics import accuracy_score\n",
        "\n",
        "exactitud = accuracy_score(y_test, y_pred)\n",
        "print('Exactitud del modelo:')\n",
        "exac_.append(exactitud)\n",
        "print(exactitud)"
      ],
      "metadata": {
        "colab": {
          "base_uri": "https://localhost:8080/"
        },
        "outputId": "9f6d4aca-3f05-452d-f2da-991d57baf723",
        "id": "wkMJeKdX6lWF"
      },
      "execution_count": 809,
      "outputs": [
        {
          "output_type": "stream",
          "name": "stdout",
          "text": [
            "Exactitud del modelo:\n",
            "0.5489795918367347\n"
          ]
        }
      ]
    },
    {
      "cell_type": "code",
      "source": [
        "#Calculo la sensibilidad del modelo\n",
        "from sklearn.metrics import recall_score\n",
        "\n",
        "sensibilidad = recall_score(y_test, y_pred, average=\"binary\", pos_label=\"COMPRAS\")\n",
        "print('Sensibilidad del modelo:')\n",
        "sensi_.append(sensibilidad)\n",
        "print(sensibilidad)"
      ],
      "metadata": {
        "colab": {
          "base_uri": "https://localhost:8080/"
        },
        "outputId": "d2c0e4a2-cf1f-4aca-81f5-49b8aaee9908",
        "id": "GwYWBBlJ6lWG"
      },
      "execution_count": 810,
      "outputs": [
        {
          "output_type": "stream",
          "name": "stdout",
          "text": [
            "Sensibilidad del modelo:\n",
            "0.0\n"
          ]
        }
      ]
    },
    {
      "cell_type": "code",
      "source": [
        "# el puntaje F1 que es una combinación entre la precisión y la sensibilidad, para esto importamos f1_score.\n",
        "#Calculo el Puntaje F1 del modelo\n",
        "from sklearn.metrics import f1_score\n",
        "\n",
        "puntajef1 = f1_score(y_test, y_pred, average=\"binary\", pos_label=\"COMPRAS\")\n",
        "print('Puntaje F1 del modelo:')\n",
        "f1_.append(puntajef1)\n",
        "print(puntajef1)"
      ],
      "metadata": {
        "colab": {
          "base_uri": "https://localhost:8080/"
        },
        "outputId": "c07f82ce-0d00-491e-e3b9-28861b94cfbb",
        "id": "CeVQZe_o6lWG"
      },
      "execution_count": 811,
      "outputs": [
        {
          "output_type": "stream",
          "name": "stdout",
          "text": [
            "Puntaje F1 del modelo:\n",
            "0.0\n"
          ]
        }
      ]
    },
    {
      "cell_type": "markdown",
      "source": [
        "## **2021**"
      ],
      "metadata": {
        "id": "lA7AdJyHXhAQ"
      }
    },
    {
      "cell_type": "markdown",
      "source": [
        "**Reemplazar valores**"
      ],
      "metadata": {
        "id": "nG2MFCcr1Mv6"
      }
    },
    {
      "cell_type": "code",
      "source": [
        "gastos_21['TIPO GASTO'].unique()"
      ],
      "metadata": {
        "colab": {
          "base_uri": "https://localhost:8080/"
        },
        "id": "O3M5vjIITuSG",
        "outputId": "e1dab172-0d11-4d0c-961b-e9da22383225"
      },
      "execution_count": 812,
      "outputs": [
        {
          "output_type": "execute_result",
          "data": {
            "text/plain": [
              "array(['COMISION BANCARIA', 'COMPRAS', 'ARRENDAMIENTO FINANCIERO',\n",
              "       'NO DEDUCIBLE', 'PAQUETERIA', 'MTTO COMPUTO', 'TELEFONO',\n",
              "       'ALIMENTOS', 'MTTO LOCAL', 'MONITOREO CAMARAS ADT',\n",
              "       'SUELDOS VENTAS', 'SUELDOS PRODUCCION', 'HONORARIOS CONTABLES',\n",
              "       'GASOLINA', 'FLETES', 'PAPELERIA', 'MEDICOS', 'ENERGIA ELECTRICA',\n",
              "       'SUELDOS DIRECCION', 'CAPACITACION', 'SEGUROS', 'MAQUILAS',\n",
              "       'RENTA COPIADORA', 'GERENCIA ADMON', 'SUSCRIPCIONES',\n",
              "       'SANITIZACION', 'UNIFORME', 'DERECHOS', 'IMSS/INFONAVIT',\n",
              "       'TRANSPORTE', 'PEAJES', 'VALES DESPENSA', 'GERENCIA VTAS',\n",
              "       'MTTO MAQUINARIA', 'CALIBRACIONES', 'MENSAJERIA', 'MAQUILAS GIC',\n",
              "       'MTTO TRANSPORTE', 'HONORARIOS PF', 'COMPRAS ', 'HONORARIOS PM',\n",
              "       'MAQUINARIA', 'ARRENDAMIENTO LOCAL', 'HONORARIOS JURIDICOS',\n",
              "       'COMISION MIXTA', 'HOSPEDAJE', 'PUBLICIDAD', 'FLETE', 'BOTIQUIN',\n",
              "       'RENTA OFICINA ', 'GASTOS IMPORTACION ', 'COMPRA COMPUTADORA ',\n",
              "       'HOSPEDAJE ', 'COMBUSTIBLE ', 'COMPRA TABLET ', 'MTTO OFICINA '],\n",
              "      dtype=object)"
            ]
          },
          "metadata": {},
          "execution_count": 812
        }
      ]
    },
    {
      "cell_type": "code",
      "source": [
        "gastos_21['TIPO GASTO'] = np.where(gastos_21['TIPO GASTO']=='COMPRAS','COMPRAS',np.where(gastos_21['TIPO GASTO']=='COMPRAS','COMPRAS','OTROS GASTOS'))"
      ],
      "metadata": {
        "id": "_1_NVHFjS7lz"
      },
      "execution_count": 813,
      "outputs": []
    },
    {
      "cell_type": "code",
      "source": [
        "gastos_21['TIPO GASTO'].unique()"
      ],
      "metadata": {
        "colab": {
          "base_uri": "https://localhost:8080/"
        },
        "id": "VvsQi0RoUi5a",
        "outputId": "e88f63f5-58cc-4435-87d4-83b2d51572aa"
      },
      "execution_count": 814,
      "outputs": [
        {
          "output_type": "execute_result",
          "data": {
            "text/plain": [
              "array(['OTROS GASTOS', 'COMPRAS'], dtype=object)"
            ]
          },
          "metadata": {},
          "execution_count": 814
        }
      ]
    },
    {
      "cell_type": "code",
      "source": [
        "#Declaramos las variables dependientes e independientes para la regresión Logística\n",
        "Vars_Indep= gastos_21[['TOTAL MX']]\n",
        "Var_Dep= gastos_21['TIPO GASTO']"
      ],
      "metadata": {
        "id": "FnkFikNrXs4f"
      },
      "execution_count": 815,
      "outputs": []
    },
    {
      "cell_type": "code",
      "source": [
        "#Redefinimos las variables \n",
        "X= Vars_Indep\n",
        "y= Var_Dep"
      ],
      "metadata": {
        "id": "5cWPjADBXs4f"
      },
      "execution_count": 816,
      "outputs": []
    },
    {
      "cell_type": "code",
      "source": [
        "#Dividimos el conjunto de datos en la parte de entrenamiento y prueba:\n",
        "X_train, X_test, y_train, y_test = train_test_split(X, y, test_size=0.3, random_state = 42)"
      ],
      "metadata": {
        "id": "PqLNXfEyXs4f"
      },
      "execution_count": 817,
      "outputs": []
    },
    {
      "cell_type": "code",
      "source": [
        "#Se escalan todos los datos\n",
        "escalar = StandardScaler()"
      ],
      "metadata": {
        "id": "uXaHP8OzXs4f"
      },
      "execution_count": 818,
      "outputs": []
    },
    {
      "cell_type": "code",
      "source": [
        "#Para realizar el escalamiento de las variables “X” tanto de entrenamiento como de prueba, utilizaremos fit_transform\n",
        "X_train = escalar.fit_transform(X_train)\n",
        "X_test = escalar.transform(X_test)"
      ],
      "metadata": {
        "id": "oGdJ_JvaXs4f"
      },
      "execution_count": 819,
      "outputs": []
    },
    {
      "cell_type": "code",
      "source": [
        "#Definimos el algoritmo a utilizar\n",
        "from sklearn.linear_model import LogisticRegression\n",
        "algoritmo = LogisticRegression()"
      ],
      "metadata": {
        "id": "VaGM0UATXs4g"
      },
      "execution_count": 820,
      "outputs": []
    },
    {
      "cell_type": "code",
      "source": [
        "#Entrenamos el modelo\n",
        "algoritmo.fit(X_train, y_train)"
      ],
      "metadata": {
        "colab": {
          "base_uri": "https://localhost:8080/",
          "height": 74
        },
        "outputId": "229bfcfe-e573-4f8a-dcee-ed7a6a729089",
        "id": "KNXfF364Xs4g"
      },
      "execution_count": 821,
      "outputs": [
        {
          "output_type": "execute_result",
          "data": {
            "text/plain": [
              "LogisticRegression()"
            ],
            "text/html": [
              "<style>#sk-container-id-42 {color: black;background-color: white;}#sk-container-id-42 pre{padding: 0;}#sk-container-id-42 div.sk-toggleable {background-color: white;}#sk-container-id-42 label.sk-toggleable__label {cursor: pointer;display: block;width: 100%;margin-bottom: 0;padding: 0.3em;box-sizing: border-box;text-align: center;}#sk-container-id-42 label.sk-toggleable__label-arrow:before {content: \"▸\";float: left;margin-right: 0.25em;color: #696969;}#sk-container-id-42 label.sk-toggleable__label-arrow:hover:before {color: black;}#sk-container-id-42 div.sk-estimator:hover label.sk-toggleable__label-arrow:before {color: black;}#sk-container-id-42 div.sk-toggleable__content {max-height: 0;max-width: 0;overflow: hidden;text-align: left;background-color: #f0f8ff;}#sk-container-id-42 div.sk-toggleable__content pre {margin: 0.2em;color: black;border-radius: 0.25em;background-color: #f0f8ff;}#sk-container-id-42 input.sk-toggleable__control:checked~div.sk-toggleable__content {max-height: 200px;max-width: 100%;overflow: auto;}#sk-container-id-42 input.sk-toggleable__control:checked~label.sk-toggleable__label-arrow:before {content: \"▾\";}#sk-container-id-42 div.sk-estimator input.sk-toggleable__control:checked~label.sk-toggleable__label {background-color: #d4ebff;}#sk-container-id-42 div.sk-label input.sk-toggleable__control:checked~label.sk-toggleable__label {background-color: #d4ebff;}#sk-container-id-42 input.sk-hidden--visually {border: 0;clip: rect(1px 1px 1px 1px);clip: rect(1px, 1px, 1px, 1px);height: 1px;margin: -1px;overflow: hidden;padding: 0;position: absolute;width: 1px;}#sk-container-id-42 div.sk-estimator {font-family: monospace;background-color: #f0f8ff;border: 1px dotted black;border-radius: 0.25em;box-sizing: border-box;margin-bottom: 0.5em;}#sk-container-id-42 div.sk-estimator:hover {background-color: #d4ebff;}#sk-container-id-42 div.sk-parallel-item::after {content: \"\";width: 100%;border-bottom: 1px solid gray;flex-grow: 1;}#sk-container-id-42 div.sk-label:hover label.sk-toggleable__label {background-color: #d4ebff;}#sk-container-id-42 div.sk-serial::before {content: \"\";position: absolute;border-left: 1px solid gray;box-sizing: border-box;top: 0;bottom: 0;left: 50%;z-index: 0;}#sk-container-id-42 div.sk-serial {display: flex;flex-direction: column;align-items: center;background-color: white;padding-right: 0.2em;padding-left: 0.2em;position: relative;}#sk-container-id-42 div.sk-item {position: relative;z-index: 1;}#sk-container-id-42 div.sk-parallel {display: flex;align-items: stretch;justify-content: center;background-color: white;position: relative;}#sk-container-id-42 div.sk-item::before, #sk-container-id-42 div.sk-parallel-item::before {content: \"\";position: absolute;border-left: 1px solid gray;box-sizing: border-box;top: 0;bottom: 0;left: 50%;z-index: -1;}#sk-container-id-42 div.sk-parallel-item {display: flex;flex-direction: column;z-index: 1;position: relative;background-color: white;}#sk-container-id-42 div.sk-parallel-item:first-child::after {align-self: flex-end;width: 50%;}#sk-container-id-42 div.sk-parallel-item:last-child::after {align-self: flex-start;width: 50%;}#sk-container-id-42 div.sk-parallel-item:only-child::after {width: 0;}#sk-container-id-42 div.sk-dashed-wrapped {border: 1px dashed gray;margin: 0 0.4em 0.5em 0.4em;box-sizing: border-box;padding-bottom: 0.4em;background-color: white;}#sk-container-id-42 div.sk-label label {font-family: monospace;font-weight: bold;display: inline-block;line-height: 1.2em;}#sk-container-id-42 div.sk-label-container {text-align: center;}#sk-container-id-42 div.sk-container {/* jupyter's `normalize.less` sets `[hidden] { display: none; }` but bootstrap.min.css set `[hidden] { display: none !important; }` so we also need the `!important` here to be able to override the default hidden behavior on the sphinx rendered scikit-learn.org. See: https://github.com/scikit-learn/scikit-learn/issues/21755 */display: inline-block !important;position: relative;}#sk-container-id-42 div.sk-text-repr-fallback {display: none;}</style><div id=\"sk-container-id-42\" class=\"sk-top-container\"><div class=\"sk-text-repr-fallback\"><pre>LogisticRegression()</pre><b>In a Jupyter environment, please rerun this cell to show the HTML representation or trust the notebook. <br />On GitHub, the HTML representation is unable to render, please try loading this page with nbviewer.org.</b></div><div class=\"sk-container\" hidden><div class=\"sk-item\"><div class=\"sk-estimator sk-toggleable\"><input class=\"sk-toggleable__control sk-hidden--visually\" id=\"sk-estimator-id-42\" type=\"checkbox\" checked><label for=\"sk-estimator-id-42\" class=\"sk-toggleable__label sk-toggleable__label-arrow\">LogisticRegression</label><div class=\"sk-toggleable__content\"><pre>LogisticRegression()</pre></div></div></div></div></div>"
            ]
          },
          "metadata": {},
          "execution_count": 821
        }
      ]
    },
    {
      "cell_type": "code",
      "source": [
        "#Realizamos una predicción\n",
        "y_pred = algoritmo.predict(X_test) \n",
        "y_pred"
      ],
      "metadata": {
        "id": "nRUkmQ7sXs4g",
        "colab": {
          "base_uri": "https://localhost:8080/"
        },
        "outputId": "11cbb2ee-d120-4238-a966-972fd982a2e3"
      },
      "execution_count": 822,
      "outputs": [
        {
          "output_type": "execute_result",
          "data": {
            "text/plain": [
              "array(['COMPRAS', 'OTROS GASTOS', 'COMPRAS', 'OTROS GASTOS',\n",
              "       'OTROS GASTOS', 'COMPRAS', 'COMPRAS', 'COMPRAS', 'OTROS GASTOS',\n",
              "       'OTROS GASTOS', 'COMPRAS', 'OTROS GASTOS', 'COMPRAS', 'COMPRAS',\n",
              "       'OTROS GASTOS', 'COMPRAS', 'OTROS GASTOS', 'COMPRAS', 'COMPRAS',\n",
              "       'COMPRAS', 'COMPRAS', 'COMPRAS', 'OTROS GASTOS', 'OTROS GASTOS',\n",
              "       'COMPRAS', 'COMPRAS', 'OTROS GASTOS', 'COMPRAS', 'OTROS GASTOS',\n",
              "       'COMPRAS', 'COMPRAS', 'COMPRAS', 'COMPRAS', 'COMPRAS', 'COMPRAS',\n",
              "       'COMPRAS', 'OTROS GASTOS', 'OTROS GASTOS', 'OTROS GASTOS',\n",
              "       'COMPRAS', 'COMPRAS', 'COMPRAS', 'OTROS GASTOS', 'COMPRAS',\n",
              "       'OTROS GASTOS', 'COMPRAS', 'COMPRAS', 'COMPRAS', 'COMPRAS',\n",
              "       'COMPRAS', 'OTROS GASTOS', 'OTROS GASTOS', 'COMPRAS', 'COMPRAS',\n",
              "       'COMPRAS', 'COMPRAS', 'COMPRAS', 'COMPRAS', 'COMPRAS', 'COMPRAS',\n",
              "       'COMPRAS', 'COMPRAS', 'COMPRAS', 'OTROS GASTOS', 'COMPRAS',\n",
              "       'COMPRAS', 'COMPRAS', 'COMPRAS', 'COMPRAS', 'COMPRAS', 'COMPRAS',\n",
              "       'OTROS GASTOS', 'OTROS GASTOS', 'COMPRAS', 'COMPRAS', 'COMPRAS',\n",
              "       'COMPRAS', 'COMPRAS', 'COMPRAS', 'COMPRAS', 'OTROS GASTOS',\n",
              "       'COMPRAS', 'COMPRAS', 'COMPRAS', 'COMPRAS', 'COMPRAS', 'COMPRAS',\n",
              "       'COMPRAS', 'COMPRAS', 'OTROS GASTOS', 'COMPRAS', 'COMPRAS',\n",
              "       'COMPRAS', 'COMPRAS', 'OTROS GASTOS', 'COMPRAS', 'OTROS GASTOS',\n",
              "       'COMPRAS', 'OTROS GASTOS', 'COMPRAS', 'COMPRAS', 'OTROS GASTOS',\n",
              "       'COMPRAS', 'COMPRAS', 'COMPRAS', 'COMPRAS', 'COMPRAS',\n",
              "       'OTROS GASTOS', 'COMPRAS', 'COMPRAS', 'COMPRAS', 'COMPRAS',\n",
              "       'COMPRAS', 'COMPRAS', 'COMPRAS', 'COMPRAS', 'COMPRAS', 'COMPRAS',\n",
              "       'COMPRAS', 'COMPRAS', 'OTROS GASTOS', 'COMPRAS', 'OTROS GASTOS',\n",
              "       'COMPRAS', 'COMPRAS', 'COMPRAS', 'COMPRAS', 'COMPRAS', 'COMPRAS',\n",
              "       'OTROS GASTOS', 'OTROS GASTOS', 'COMPRAS', 'OTROS GASTOS',\n",
              "       'COMPRAS', 'COMPRAS', 'COMPRAS', 'OTROS GASTOS', 'COMPRAS',\n",
              "       'COMPRAS', 'OTROS GASTOS', 'COMPRAS', 'COMPRAS', 'COMPRAS',\n",
              "       'COMPRAS', 'COMPRAS', 'COMPRAS', 'COMPRAS', 'COMPRAS', 'COMPRAS',\n",
              "       'OTROS GASTOS', 'COMPRAS', 'COMPRAS', 'COMPRAS', 'COMPRAS',\n",
              "       'OTROS GASTOS', 'OTROS GASTOS', 'OTROS GASTOS', 'COMPRAS',\n",
              "       'COMPRAS', 'OTROS GASTOS', 'COMPRAS', 'COMPRAS', 'COMPRAS',\n",
              "       'COMPRAS', 'COMPRAS', 'COMPRAS', 'COMPRAS', 'COMPRAS', 'COMPRAS',\n",
              "       'COMPRAS', 'OTROS GASTOS', 'COMPRAS', 'COMPRAS', 'COMPRAS',\n",
              "       'OTROS GASTOS', 'COMPRAS', 'OTROS GASTOS', 'COMPRAS', 'COMPRAS',\n",
              "       'COMPRAS', 'COMPRAS', 'OTROS GASTOS', 'COMPRAS', 'COMPRAS',\n",
              "       'OTROS GASTOS', 'COMPRAS', 'COMPRAS', 'COMPRAS', 'COMPRAS',\n",
              "       'COMPRAS', 'COMPRAS', 'OTROS GASTOS', 'COMPRAS', 'COMPRAS',\n",
              "       'COMPRAS', 'COMPRAS', 'COMPRAS', 'COMPRAS', 'OTROS GASTOS',\n",
              "       'COMPRAS', 'COMPRAS', 'COMPRAS', 'COMPRAS', 'OTROS GASTOS',\n",
              "       'OTROS GASTOS', 'OTROS GASTOS', 'COMPRAS', 'COMPRAS', 'COMPRAS',\n",
              "       'OTROS GASTOS', 'COMPRAS', 'COMPRAS', 'COMPRAS', 'COMPRAS',\n",
              "       'COMPRAS', 'COMPRAS', 'OTROS GASTOS', 'COMPRAS', 'COMPRAS',\n",
              "       'COMPRAS', 'COMPRAS', 'COMPRAS', 'COMPRAS', 'COMPRAS',\n",
              "       'OTROS GASTOS', 'COMPRAS', 'COMPRAS', 'COMPRAS', 'COMPRAS',\n",
              "       'COMPRAS', 'COMPRAS', 'COMPRAS', 'COMPRAS', 'COMPRAS', 'COMPRAS',\n",
              "       'COMPRAS', 'COMPRAS', 'OTROS GASTOS', 'COMPRAS', 'OTROS GASTOS',\n",
              "       'COMPRAS', 'COMPRAS', 'COMPRAS', 'COMPRAS', 'COMPRAS', 'COMPRAS',\n",
              "       'COMPRAS', 'COMPRAS', 'COMPRAS', 'COMPRAS', 'COMPRAS',\n",
              "       'OTROS GASTOS', 'COMPRAS', 'OTROS GASTOS', 'COMPRAS', 'COMPRAS',\n",
              "       'COMPRAS', 'OTROS GASTOS', 'COMPRAS', 'COMPRAS', 'COMPRAS',\n",
              "       'COMPRAS', 'COMPRAS', 'OTROS GASTOS', 'COMPRAS', 'COMPRAS',\n",
              "       'COMPRAS', 'OTROS GASTOS', 'COMPRAS', 'COMPRAS', 'COMPRAS',\n",
              "       'COMPRAS', 'COMPRAS', 'COMPRAS', 'COMPRAS', 'OTROS GASTOS',\n",
              "       'COMPRAS', 'COMPRAS', 'COMPRAS', 'OTROS GASTOS', 'COMPRAS',\n",
              "       'OTROS GASTOS', 'COMPRAS', 'COMPRAS', 'COMPRAS', 'OTROS GASTOS',\n",
              "       'COMPRAS', 'COMPRAS', 'COMPRAS', 'COMPRAS', 'COMPRAS', 'COMPRAS',\n",
              "       'COMPRAS', 'COMPRAS', 'COMPRAS', 'OTROS GASTOS', 'OTROS GASTOS',\n",
              "       'COMPRAS', 'COMPRAS', 'OTROS GASTOS', 'COMPRAS', 'OTROS GASTOS',\n",
              "       'COMPRAS', 'COMPRAS', 'COMPRAS', 'OTROS GASTOS', 'COMPRAS',\n",
              "       'COMPRAS', 'COMPRAS', 'OTROS GASTOS', 'COMPRAS', 'COMPRAS',\n",
              "       'OTROS GASTOS', 'COMPRAS', 'COMPRAS', 'COMPRAS', 'COMPRAS',\n",
              "       'COMPRAS', 'COMPRAS', 'COMPRAS', 'COMPRAS', 'COMPRAS', 'COMPRAS',\n",
              "       'COMPRAS', 'COMPRAS', 'COMPRAS', 'COMPRAS', 'COMPRAS', 'COMPRAS',\n",
              "       'COMPRAS', 'COMPRAS', 'COMPRAS', 'COMPRAS', 'COMPRAS', 'COMPRAS',\n",
              "       'COMPRAS', 'COMPRAS', 'COMPRAS', 'COMPRAS', 'COMPRAS',\n",
              "       'OTROS GASTOS', 'COMPRAS', 'OTROS GASTOS', 'COMPRAS', 'COMPRAS',\n",
              "       'COMPRAS', 'COMPRAS', 'COMPRAS', 'COMPRAS', 'COMPRAS', 'COMPRAS',\n",
              "       'OTROS GASTOS', 'COMPRAS', 'COMPRAS', 'OTROS GASTOS', 'COMPRAS',\n",
              "       'COMPRAS', 'COMPRAS', 'COMPRAS', 'OTROS GASTOS', 'COMPRAS',\n",
              "       'OTROS GASTOS', 'COMPRAS', 'OTROS GASTOS', 'COMPRAS', 'COMPRAS',\n",
              "       'COMPRAS', 'COMPRAS', 'COMPRAS', 'COMPRAS', 'COMPRAS',\n",
              "       'OTROS GASTOS', 'COMPRAS', 'OTROS GASTOS', 'COMPRAS', 'COMPRAS',\n",
              "       'COMPRAS', 'OTROS GASTOS', 'OTROS GASTOS', 'OTROS GASTOS',\n",
              "       'COMPRAS', 'COMPRAS', 'OTROS GASTOS', 'COMPRAS', 'COMPRAS',\n",
              "       'COMPRAS', 'COMPRAS', 'OTROS GASTOS', 'COMPRAS', 'OTROS GASTOS',\n",
              "       'COMPRAS', 'COMPRAS', 'OTROS GASTOS', 'COMPRAS', 'COMPRAS',\n",
              "       'COMPRAS', 'COMPRAS', 'COMPRAS', 'COMPRAS', 'OTROS GASTOS',\n",
              "       'OTROS GASTOS', 'COMPRAS', 'COMPRAS', 'COMPRAS', 'COMPRAS',\n",
              "       'COMPRAS', 'COMPRAS', 'COMPRAS', 'COMPRAS', 'COMPRAS',\n",
              "       'OTROS GASTOS', 'OTROS GASTOS', 'COMPRAS', 'COMPRAS', 'COMPRAS',\n",
              "       'COMPRAS', 'COMPRAS', 'COMPRAS', 'COMPRAS', 'COMPRAS',\n",
              "       'OTROS GASTOS', 'COMPRAS', 'COMPRAS', 'OTROS GASTOS',\n",
              "       'OTROS GASTOS', 'COMPRAS', 'COMPRAS', 'COMPRAS', 'COMPRAS',\n",
              "       'OTROS GASTOS', 'COMPRAS', 'COMPRAS', 'COMPRAS', 'COMPRAS',\n",
              "       'COMPRAS', 'COMPRAS', 'COMPRAS', 'COMPRAS', 'COMPRAS', 'COMPRAS',\n",
              "       'COMPRAS', 'COMPRAS', 'COMPRAS', 'COMPRAS', 'COMPRAS', 'COMPRAS',\n",
              "       'OTROS GASTOS', 'COMPRAS', 'COMPRAS', 'OTROS GASTOS', 'COMPRAS',\n",
              "       'OTROS GASTOS', 'COMPRAS', 'COMPRAS', 'OTROS GASTOS', 'COMPRAS',\n",
              "       'OTROS GASTOS', 'OTROS GASTOS', 'COMPRAS', 'COMPRAS',\n",
              "       'OTROS GASTOS', 'COMPRAS', 'OTROS GASTOS', 'OTROS GASTOS',\n",
              "       'COMPRAS', 'COMPRAS', 'COMPRAS', 'COMPRAS', 'COMPRAS', 'COMPRAS',\n",
              "       'OTROS GASTOS', 'COMPRAS', 'OTROS GASTOS', 'COMPRAS', 'COMPRAS',\n",
              "       'OTROS GASTOS', 'OTROS GASTOS', 'COMPRAS', 'COMPRAS',\n",
              "       'OTROS GASTOS', 'COMPRAS', 'OTROS GASTOS', 'COMPRAS', 'COMPRAS',\n",
              "       'COMPRAS', 'COMPRAS', 'OTROS GASTOS', 'COMPRAS', 'COMPRAS',\n",
              "       'COMPRAS', 'COMPRAS', 'COMPRAS', 'COMPRAS', 'COMPRAS', 'COMPRAS',\n",
              "       'COMPRAS', 'COMPRAS', 'OTROS GASTOS', 'OTROS GASTOS',\n",
              "       'OTROS GASTOS', 'COMPRAS', 'COMPRAS', 'COMPRAS', 'COMPRAS',\n",
              "       'COMPRAS', 'OTROS GASTOS', 'COMPRAS', 'OTROS GASTOS', 'COMPRAS',\n",
              "       'COMPRAS', 'COMPRAS', 'COMPRAS', 'COMPRAS', 'COMPRAS',\n",
              "       'OTROS GASTOS', 'OTROS GASTOS', 'OTROS GASTOS', 'COMPRAS',\n",
              "       'COMPRAS', 'COMPRAS', 'COMPRAS', 'COMPRAS', 'OTROS GASTOS',\n",
              "       'OTROS GASTOS', 'COMPRAS', 'COMPRAS', 'COMPRAS', 'COMPRAS',\n",
              "       'COMPRAS', 'OTROS GASTOS', 'COMPRAS', 'OTROS GASTOS',\n",
              "       'OTROS GASTOS', 'OTROS GASTOS', 'OTROS GASTOS', 'COMPRAS',\n",
              "       'COMPRAS', 'COMPRAS', 'OTROS GASTOS', 'COMPRAS', 'COMPRAS',\n",
              "       'COMPRAS', 'COMPRAS', 'OTROS GASTOS', 'OTROS GASTOS', 'COMPRAS',\n",
              "       'OTROS GASTOS', 'COMPRAS', 'COMPRAS', 'COMPRAS', 'COMPRAS',\n",
              "       'COMPRAS', 'COMPRAS', 'COMPRAS', 'COMPRAS', 'COMPRAS', 'COMPRAS',\n",
              "       'COMPRAS', 'COMPRAS', 'COMPRAS', 'COMPRAS', 'COMPRAS', 'COMPRAS',\n",
              "       'COMPRAS', 'OTROS GASTOS', 'COMPRAS', 'COMPRAS', 'COMPRAS',\n",
              "       'COMPRAS', 'COMPRAS', 'OTROS GASTOS', 'COMPRAS', 'COMPRAS',\n",
              "       'OTROS GASTOS', 'COMPRAS', 'COMPRAS', 'COMPRAS', 'COMPRAS',\n",
              "       'OTROS GASTOS', 'COMPRAS', 'OTROS GASTOS', 'OTROS GASTOS',\n",
              "       'COMPRAS', 'COMPRAS', 'COMPRAS', 'COMPRAS', 'COMPRAS', 'COMPRAS',\n",
              "       'OTROS GASTOS', 'OTROS GASTOS', 'COMPRAS', 'COMPRAS', 'COMPRAS',\n",
              "       'COMPRAS', 'COMPRAS', 'COMPRAS', 'COMPRAS', 'COMPRAS', 'COMPRAS',\n",
              "       'COMPRAS', 'COMPRAS', 'OTROS GASTOS', 'COMPRAS', 'OTROS GASTOS',\n",
              "       'COMPRAS', 'COMPRAS', 'COMPRAS', 'COMPRAS', 'OTROS GASTOS',\n",
              "       'COMPRAS', 'COMPRAS', 'OTROS GASTOS', 'COMPRAS', 'COMPRAS',\n",
              "       'COMPRAS', 'COMPRAS', 'COMPRAS', 'COMPRAS', 'COMPRAS',\n",
              "       'OTROS GASTOS', 'OTROS GASTOS', 'COMPRAS', 'COMPRAS', 'COMPRAS',\n",
              "       'COMPRAS', 'COMPRAS', 'COMPRAS', 'COMPRAS', 'COMPRAS', 'COMPRAS',\n",
              "       'COMPRAS', 'COMPRAS', 'COMPRAS', 'OTROS GASTOS', 'OTROS GASTOS',\n",
              "       'COMPRAS', 'OTROS GASTOS', 'COMPRAS', 'COMPRAS', 'COMPRAS',\n",
              "       'COMPRAS', 'OTROS GASTOS', 'COMPRAS', 'COMPRAS', 'COMPRAS',\n",
              "       'COMPRAS', 'COMPRAS', 'OTROS GASTOS', 'OTROS GASTOS', 'COMPRAS',\n",
              "       'COMPRAS', 'COMPRAS', 'COMPRAS', 'COMPRAS', 'COMPRAS', 'COMPRAS',\n",
              "       'COMPRAS', 'COMPRAS', 'OTROS GASTOS', 'COMPRAS', 'COMPRAS',\n",
              "       'COMPRAS', 'OTROS GASTOS', 'OTROS GASTOS', 'COMPRAS',\n",
              "       'OTROS GASTOS', 'COMPRAS', 'COMPRAS', 'COMPRAS', 'COMPRAS',\n",
              "       'COMPRAS', 'COMPRAS', 'COMPRAS', 'COMPRAS', 'COMPRAS', 'COMPRAS',\n",
              "       'COMPRAS', 'COMPRAS', 'OTROS GASTOS', 'COMPRAS', 'COMPRAS',\n",
              "       'COMPRAS', 'COMPRAS', 'COMPRAS', 'OTROS GASTOS', 'COMPRAS',\n",
              "       'COMPRAS', 'OTROS GASTOS', 'COMPRAS', 'COMPRAS', 'COMPRAS',\n",
              "       'OTROS GASTOS', 'COMPRAS', 'COMPRAS', 'OTROS GASTOS', 'COMPRAS',\n",
              "       'COMPRAS', 'COMPRAS', 'COMPRAS', 'COMPRAS', 'COMPRAS', 'COMPRAS',\n",
              "       'OTROS GASTOS', 'COMPRAS', 'OTROS GASTOS', 'COMPRAS', 'COMPRAS',\n",
              "       'OTROS GASTOS', 'COMPRAS', 'OTROS GASTOS', 'OTROS GASTOS',\n",
              "       'OTROS GASTOS', 'OTROS GASTOS', 'COMPRAS', 'OTROS GASTOS',\n",
              "       'COMPRAS', 'COMPRAS', 'COMPRAS', 'COMPRAS', 'COMPRAS', 'COMPRAS',\n",
              "       'COMPRAS', 'COMPRAS', 'OTROS GASTOS', 'COMPRAS', 'COMPRAS',\n",
              "       'COMPRAS', 'COMPRAS', 'COMPRAS', 'OTROS GASTOS', 'OTROS GASTOS',\n",
              "       'COMPRAS', 'COMPRAS', 'OTROS GASTOS', 'COMPRAS', 'COMPRAS',\n",
              "       'COMPRAS', 'COMPRAS', 'COMPRAS', 'OTROS GASTOS', 'COMPRAS',\n",
              "       'OTROS GASTOS', 'COMPRAS', 'COMPRAS', 'COMPRAS', 'COMPRAS',\n",
              "       'COMPRAS', 'COMPRAS', 'COMPRAS', 'COMPRAS', 'OTROS GASTOS',\n",
              "       'COMPRAS', 'OTROS GASTOS', 'COMPRAS', 'COMPRAS', 'OTROS GASTOS',\n",
              "       'COMPRAS', 'COMPRAS', 'COMPRAS', 'COMPRAS', 'COMPRAS',\n",
              "       'OTROS GASTOS', 'OTROS GASTOS', 'COMPRAS', 'COMPRAS', 'COMPRAS',\n",
              "       'COMPRAS', 'OTROS GASTOS', 'COMPRAS', 'OTROS GASTOS', 'COMPRAS',\n",
              "       'COMPRAS', 'COMPRAS', 'COMPRAS', 'COMPRAS', 'COMPRAS', 'COMPRAS',\n",
              "       'COMPRAS', 'COMPRAS', 'COMPRAS', 'COMPRAS', 'OTROS GASTOS',\n",
              "       'COMPRAS', 'COMPRAS', 'COMPRAS', 'COMPRAS', 'COMPRAS', 'COMPRAS',\n",
              "       'COMPRAS', 'COMPRAS', 'COMPRAS', 'COMPRAS', 'OTROS GASTOS',\n",
              "       'COMPRAS', 'COMPRAS', 'COMPRAS', 'OTROS GASTOS', 'COMPRAS',\n",
              "       'OTROS GASTOS', 'OTROS GASTOS', 'COMPRAS', 'COMPRAS', 'COMPRAS',\n",
              "       'OTROS GASTOS', 'COMPRAS', 'COMPRAS', 'COMPRAS', 'OTROS GASTOS',\n",
              "       'COMPRAS', 'COMPRAS', 'COMPRAS', 'COMPRAS', 'COMPRAS', 'COMPRAS',\n",
              "       'COMPRAS', 'OTROS GASTOS', 'COMPRAS', 'COMPRAS', 'COMPRAS',\n",
              "       'COMPRAS', 'COMPRAS', 'COMPRAS', 'COMPRAS', 'COMPRAS', 'COMPRAS',\n",
              "       'COMPRAS', 'COMPRAS', 'COMPRAS', 'COMPRAS', 'COMPRAS',\n",
              "       'OTROS GASTOS', 'COMPRAS', 'COMPRAS', 'COMPRAS', 'OTROS GASTOS',\n",
              "       'COMPRAS', 'COMPRAS', 'COMPRAS', 'COMPRAS', 'COMPRAS',\n",
              "       'OTROS GASTOS', 'COMPRAS', 'COMPRAS', 'COMPRAS', 'OTROS GASTOS',\n",
              "       'COMPRAS', 'OTROS GASTOS', 'COMPRAS', 'COMPRAS', 'COMPRAS',\n",
              "       'OTROS GASTOS', 'COMPRAS', 'OTROS GASTOS', 'COMPRAS',\n",
              "       'OTROS GASTOS', 'OTROS GASTOS', 'COMPRAS', 'COMPRAS', 'COMPRAS',\n",
              "       'COMPRAS', 'OTROS GASTOS', 'COMPRAS', 'COMPRAS', 'COMPRAS',\n",
              "       'OTROS GASTOS', 'COMPRAS', 'COMPRAS', 'COMPRAS', 'COMPRAS',\n",
              "       'COMPRAS', 'COMPRAS', 'COMPRAS', 'COMPRAS', 'COMPRAS',\n",
              "       'OTROS GASTOS', 'COMPRAS', 'COMPRAS', 'OTROS GASTOS', 'COMPRAS',\n",
              "       'COMPRAS', 'OTROS GASTOS', 'OTROS GASTOS', 'COMPRAS',\n",
              "       'OTROS GASTOS', 'COMPRAS', 'COMPRAS', 'COMPRAS', 'COMPRAS',\n",
              "       'OTROS GASTOS', 'OTROS GASTOS', 'COMPRAS', 'COMPRAS',\n",
              "       'OTROS GASTOS', 'COMPRAS', 'COMPRAS', 'OTROS GASTOS', 'COMPRAS',\n",
              "       'COMPRAS', 'OTROS GASTOS'], dtype=object)"
            ]
          },
          "metadata": {},
          "execution_count": 822
        }
      ]
    },
    {
      "cell_type": "code",
      "source": [
        "#Verifico la matriz de Confusión\n",
        "from sklearn.metrics import confusion_matrix\n",
        "matriz = confusion_matrix(y_test, y_pred)\n",
        "print('Matriz de Confusión:')\n",
        "print(matriz)"
      ],
      "metadata": {
        "colab": {
          "base_uri": "https://localhost:8080/"
        },
        "outputId": "28a9632a-d2c1-461d-fff2-6f4fd2cf60f5",
        "id": "6KbL3_xDXs4g"
      },
      "execution_count": 823,
      "outputs": [
        {
          "output_type": "stream",
          "name": "stdout",
          "text": [
            "Matriz de Confusión:\n",
            "[[356 103]\n",
            " [333 107]]\n"
          ]
        }
      ]
    },
    {
      "cell_type": "code",
      "source": [
        "#Calculo la precisión del modelo\n",
        "from sklearn.metrics import precision_score\n",
        "\n",
        "precision = precision_score(y_test, y_pred, average=\"binary\", pos_label=\"COMPRAS\")\n",
        "print('Precisión del modelo:')\n",
        "print(precision)"
      ],
      "metadata": {
        "colab": {
          "base_uri": "https://localhost:8080/"
        },
        "outputId": "0d0e2967-4863-4840-8c91-52625c0793b0",
        "id": "ykAgsSQ6Xs4g"
      },
      "execution_count": 824,
      "outputs": [
        {
          "output_type": "stream",
          "name": "stdout",
          "text": [
            "Precisión del modelo:\n",
            "0.5166908563134979\n"
          ]
        }
      ]
    },
    {
      "cell_type": "code",
      "source": [
        "prec_.append(precision)"
      ],
      "metadata": {
        "id": "hTe9GZDvXXNi"
      },
      "execution_count": 825,
      "outputs": []
    },
    {
      "cell_type": "code",
      "source": [
        "#Calculo la exactitud del modelo\n",
        "from sklearn.metrics import accuracy_score\n",
        "\n",
        "exactitud = accuracy_score(y_test, y_pred)\n",
        "print('Exactitud del modelo:')\n",
        "print(exactitud)"
      ],
      "metadata": {
        "colab": {
          "base_uri": "https://localhost:8080/"
        },
        "outputId": "09e0e002-96ac-44e6-a6f3-d03bddf4128b",
        "id": "Vg4T9LDzXs4h"
      },
      "execution_count": 826,
      "outputs": [
        {
          "output_type": "stream",
          "name": "stdout",
          "text": [
            "Exactitud del modelo:\n",
            "0.5150166852057843\n"
          ]
        }
      ]
    },
    {
      "cell_type": "code",
      "source": [
        "exac_.append(exactitud)"
      ],
      "metadata": {
        "id": "HPUzdfmlXYnv"
      },
      "execution_count": 827,
      "outputs": []
    },
    {
      "cell_type": "code",
      "source": [
        "#Calculo la sensibilidad del modelo\n",
        "from sklearn.metrics import recall_score\n",
        "\n",
        "sensibilidad = recall_score(y_test, y_pred, average=\"binary\", pos_label=\"COMPRAS\")\n",
        "print('Sensibilidad del modelo:')\n",
        "print(sensibilidad)"
      ],
      "metadata": {
        "colab": {
          "base_uri": "https://localhost:8080/"
        },
        "outputId": "aa9e3402-8445-4710-a1c8-85a859813887",
        "id": "uTlB6TEGXs4i"
      },
      "execution_count": 828,
      "outputs": [
        {
          "output_type": "stream",
          "name": "stdout",
          "text": [
            "Sensibilidad del modelo:\n",
            "0.775599128540305\n"
          ]
        }
      ]
    },
    {
      "cell_type": "code",
      "source": [
        "sensi_.append(sensibilidad)"
      ],
      "metadata": {
        "id": "Jn0aXVVxXacS"
      },
      "execution_count": 829,
      "outputs": []
    },
    {
      "cell_type": "code",
      "source": [
        "# el puntaje F1 que es una combinación entre la precisión y la sensibilidad, para esto importamos f1_score.\n",
        "#Calculo el Puntaje F1 del modelo\n",
        "from sklearn.metrics import f1_score\n",
        "\n",
        "puntajef1 = f1_score(y_test, y_pred, average=\"binary\", pos_label=\"COMPRAS\")\n",
        "print('Puntaje F1 del modelo:')\n",
        "print(puntajef1)"
      ],
      "metadata": {
        "colab": {
          "base_uri": "https://localhost:8080/"
        },
        "outputId": "1ed76b84-770b-49ae-cd43-1fdbfb8e25f5",
        "id": "WdT3VZWTXs4i"
      },
      "execution_count": 830,
      "outputs": [
        {
          "output_type": "stream",
          "name": "stdout",
          "text": [
            "Puntaje F1 del modelo:\n",
            "0.6202090592334495\n"
          ]
        }
      ]
    },
    {
      "cell_type": "code",
      "source": [
        "f1_.append(puntajef1)"
      ],
      "metadata": {
        "id": "R9zlFomtXfdN"
      },
      "execution_count": 831,
      "outputs": []
    },
    {
      "cell_type": "markdown",
      "source": [
        "##**2022**"
      ],
      "metadata": {
        "id": "A2Tu9jzpVWsH"
      }
    },
    {
      "cell_type": "code",
      "source": [
        "#Verificar los valores sin repetirse de una columna\n",
        "u= np.unique(gastos_22['TIPO GASTO'])\n",
        "u"
      ],
      "metadata": {
        "id": "XVqLsxD0Yo6R",
        "colab": {
          "base_uri": "https://localhost:8080/"
        },
        "outputId": "86a3d936-6b45-49c3-9b14-c86f04f609fe"
      },
      "execution_count": 832,
      "outputs": [
        {
          "output_type": "execute_result",
          "data": {
            "text/plain": [
              "array(['ALIMENTOS', 'ANTICIPO ', 'ANTICIPO COMPRA AUTO',\n",
              "       'ARRENDAMIENTO FINANCIERO', 'ARRENDAMIENTO LOCAL', 'CALIBRACIONES',\n",
              "       'CAPACITACION', 'CASETAS', 'COMISION BANCARIA', 'COMISION MIXTA',\n",
              "       'COMPRA AUTO ', 'COMPRAS', 'COMPRAS ', 'CREDITO ', 'DERECHOS',\n",
              "       'ENERGIA ELECTRICA', 'FLETE', 'GASOLINA', 'GASTOS IMPORTACION ',\n",
              "       'GERENCIA ADMON', 'HONORARIOS CONTABLES', 'HONORARIOS JURIDICOS',\n",
              "       'HONORARIOS PM', 'HOSPEDAJE', 'IMSS/INFONAVIT',\n",
              "       'INSTALACION ELECTRICA', 'MAQUILAS', 'MAQUINARIA', 'MEDICOS',\n",
              "       'MENSAJERIA', 'MONITOREO CAMARAS ADT', 'MTTO COMPUTO',\n",
              "       'MTTO EQUIPO COMPUTO', 'MTTO LOCAL', 'MTTO MAQUINARIA',\n",
              "       'MTTO OFICINA ', 'MTTO TRANSPORTE', 'NO DEDUCIBLE', 'PAPELERIA',\n",
              "       'PAQUETERIA', 'PEAJES', 'PUBLICIDAD', 'RENTA AUTO',\n",
              "       'RENTA COPIADORA', 'SANITIZACION', 'SEGUROS', 'SUBCONTRATOS',\n",
              "       'SUELDOS DIRECCION', 'SUSCRIPCIONES', 'TELEFONO', 'TRANSPORTE',\n",
              "       'UNIFORMES', 'VALES DESPENSA', 'VARIOS'], dtype=object)"
            ]
          },
          "metadata": {},
          "execution_count": 832
        }
      ]
    },
    {
      "cell_type": "code",
      "source": [
        "#Variable a dicotómica \n",
        "gastos_22['TIPO GASTO']= gastos_22['TIPO GASTO'].replace(['COMPRAS '], \"COMPRAS\")"
      ],
      "metadata": {
        "id": "E9DLNOyBYo24"
      },
      "execution_count": 833,
      "outputs": []
    },
    {
      "cell_type": "code",
      "source": [
        "#Variable a dicotómica \n",
        "gastos_22['TIPO GASTO']= gastos_22['TIPO GASTO'].replace(['ALIMENTOS', 'ARRENDAMIENTO FINANCIERO', 'ARRENDAMIENTO LOCAL',\n",
        "       'BOTIQUIN', 'CALIBRACIONES', 'CAPACITACION', 'COMBUSTIBLE ',\n",
        "       'COMISION BANCARIA', 'COMISION MIXTA', 'COMPRA COMPUTADORA ',\n",
        "       'COMPRA TABLET', 'DERECHOS',\n",
        "       'ENERGIA ELECTRICA', 'FLETE', 'FLETES', 'GASOLINA',\n",
        "       'GASTOS IMPORTACION ', 'GERENCIA ADMON', 'GERENCIA VTAS',\n",
        "       'HONORARIOS CONTABLES', 'HONORARIOS JURIDICOS', 'HONORARIOS PF',\n",
        "       'HONORARIOS PM', 'HOSPEDAJE', 'HOSPEDAJE ', 'IMSS/INFONAVIT',\n",
        "       'MAQUILAS', 'MAQUILAS GIC', 'MAQUINARIA', 'MEDICOS', 'MENSAJERIA',\n",
        "       'MONITOREO CAMARAS ADT', 'MTTO COMPUTO', 'MTTO LOCAL',\n",
        "       'MTTO MAQUINARIA', 'MTTO OFICINA ', 'MTTO TRANSPORTE',\n",
        "       'NO DEDUCIBLE', 'PAPELERIA', 'PAQUETERIA', 'PEAJES', 'PUBLICIDAD',\n",
        "       'RENTA COPIADORA', 'RENTA OFICINA ', 'SANITIZACION', 'SEGUROS',\n",
        "       'SUELDOS DIRECCION', 'SUELDOS PRODUCCION', 'SUELDOS VENTAS',\n",
        "       'SUSCRIPCIONES', 'TELEFONO', 'TRANSPORTE', 'UNIFORME',\n",
        "       'VALES DESPENSA', 'COMPRA TABLET ', 'ENERGIA ELECTRICA','ANTICIPO ', 'ANTICIPO COMPRA AUTO', 'CASETAS', 'COMPRA AUTO ', 'CREDITO ', 'INSTALACION ELECTRICA',\n",
        "       'MTTO EQUIPO COMPUTO', 'OTROS GASTOS', 'RENTA AUTO',\n",
        "       'SUBCONTRATOS', 'UNIFORMES', 'VARIOS'], \"OTROS GASTOS\")"
      ],
      "metadata": {
        "id": "NkGxUfELYozi"
      },
      "execution_count": 834,
      "outputs": []
    },
    {
      "cell_type": "code",
      "source": [
        "u= np.unique(gastos_22['TIPO GASTO'])\n",
        "u"
      ],
      "metadata": {
        "id": "BOAzqBNuYovL",
        "colab": {
          "base_uri": "https://localhost:8080/"
        },
        "outputId": "564427f6-5372-4fec-f5b5-f7866cd3506d"
      },
      "execution_count": 835,
      "outputs": [
        {
          "output_type": "execute_result",
          "data": {
            "text/plain": [
              "array(['COMPRAS', 'OTROS GASTOS'], dtype=object)"
            ]
          },
          "metadata": {},
          "execution_count": 835
        }
      ]
    },
    {
      "cell_type": "code",
      "source": [
        "#Declaramos las variables dependientes e independientes para la regresión Logística\n",
        "Vars_Indep= gastos_22[['TOTAL MX']]\n",
        "Var_Dep= gastos_22['TIPO GASTO']"
      ],
      "metadata": {
        "id": "JNQ1LboHYoqz"
      },
      "execution_count": 836,
      "outputs": []
    },
    {
      "cell_type": "code",
      "source": [
        "#Redefinimos las variables \n",
        "X= Vars_Indep\n",
        "y= Var_Dep"
      ],
      "metadata": {
        "id": "xAhGym5zYonL"
      },
      "execution_count": 837,
      "outputs": []
    },
    {
      "cell_type": "code",
      "source": [
        "#Dividimos el conjunto de datos en la parte de entrenamiento y prueba:\n",
        "X_train, X_test, y_train, y_test = train_test_split(X, y, test_size=0.3, random_state =None)"
      ],
      "metadata": {
        "id": "W-fWUxYCYoio"
      },
      "execution_count": 838,
      "outputs": []
    },
    {
      "cell_type": "code",
      "source": [
        "#Se escalan todos los datos\n",
        "escalar = StandardScaler()"
      ],
      "metadata": {
        "id": "6vA3ikpaYocp"
      },
      "execution_count": 839,
      "outputs": []
    },
    {
      "cell_type": "code",
      "source": [
        "#Para realizar el escalamiento de las variables “X” tanto de entrenamiento como de prueba, utilizaremos fit_transform\n",
        "X_train = escalar.fit_transform(X_train)\n",
        "X_test = escalar.transform(X_test)"
      ],
      "metadata": {
        "id": "fXhKS5N2YoYL"
      },
      "execution_count": 840,
      "outputs": []
    },
    {
      "cell_type": "code",
      "source": [
        "#Definimos el algoritmo a utilizar\n",
        "from sklearn.linear_model import LogisticRegression\n",
        "algoritmo = LogisticRegression()"
      ],
      "metadata": {
        "id": "nIYZ-ErMYoSk"
      },
      "execution_count": 841,
      "outputs": []
    },
    {
      "cell_type": "code",
      "source": [
        "#Entrenamos el modelo\n",
        "algoritmo.fit(X_train, y_train)"
      ],
      "metadata": {
        "id": "YbZ_AvUbYoNB",
        "colab": {
          "base_uri": "https://localhost:8080/",
          "height": 74
        },
        "outputId": "7bc90272-bd88-43cc-a5c6-7268ccc62f30"
      },
      "execution_count": 842,
      "outputs": [
        {
          "output_type": "execute_result",
          "data": {
            "text/plain": [
              "LogisticRegression()"
            ],
            "text/html": [
              "<style>#sk-container-id-43 {color: black;background-color: white;}#sk-container-id-43 pre{padding: 0;}#sk-container-id-43 div.sk-toggleable {background-color: white;}#sk-container-id-43 label.sk-toggleable__label {cursor: pointer;display: block;width: 100%;margin-bottom: 0;padding: 0.3em;box-sizing: border-box;text-align: center;}#sk-container-id-43 label.sk-toggleable__label-arrow:before {content: \"▸\";float: left;margin-right: 0.25em;color: #696969;}#sk-container-id-43 label.sk-toggleable__label-arrow:hover:before {color: black;}#sk-container-id-43 div.sk-estimator:hover label.sk-toggleable__label-arrow:before {color: black;}#sk-container-id-43 div.sk-toggleable__content {max-height: 0;max-width: 0;overflow: hidden;text-align: left;background-color: #f0f8ff;}#sk-container-id-43 div.sk-toggleable__content pre {margin: 0.2em;color: black;border-radius: 0.25em;background-color: #f0f8ff;}#sk-container-id-43 input.sk-toggleable__control:checked~div.sk-toggleable__content {max-height: 200px;max-width: 100%;overflow: auto;}#sk-container-id-43 input.sk-toggleable__control:checked~label.sk-toggleable__label-arrow:before {content: \"▾\";}#sk-container-id-43 div.sk-estimator input.sk-toggleable__control:checked~label.sk-toggleable__label {background-color: #d4ebff;}#sk-container-id-43 div.sk-label input.sk-toggleable__control:checked~label.sk-toggleable__label {background-color: #d4ebff;}#sk-container-id-43 input.sk-hidden--visually {border: 0;clip: rect(1px 1px 1px 1px);clip: rect(1px, 1px, 1px, 1px);height: 1px;margin: -1px;overflow: hidden;padding: 0;position: absolute;width: 1px;}#sk-container-id-43 div.sk-estimator {font-family: monospace;background-color: #f0f8ff;border: 1px dotted black;border-radius: 0.25em;box-sizing: border-box;margin-bottom: 0.5em;}#sk-container-id-43 div.sk-estimator:hover {background-color: #d4ebff;}#sk-container-id-43 div.sk-parallel-item::after {content: \"\";width: 100%;border-bottom: 1px solid gray;flex-grow: 1;}#sk-container-id-43 div.sk-label:hover label.sk-toggleable__label {background-color: #d4ebff;}#sk-container-id-43 div.sk-serial::before {content: \"\";position: absolute;border-left: 1px solid gray;box-sizing: border-box;top: 0;bottom: 0;left: 50%;z-index: 0;}#sk-container-id-43 div.sk-serial {display: flex;flex-direction: column;align-items: center;background-color: white;padding-right: 0.2em;padding-left: 0.2em;position: relative;}#sk-container-id-43 div.sk-item {position: relative;z-index: 1;}#sk-container-id-43 div.sk-parallel {display: flex;align-items: stretch;justify-content: center;background-color: white;position: relative;}#sk-container-id-43 div.sk-item::before, #sk-container-id-43 div.sk-parallel-item::before {content: \"\";position: absolute;border-left: 1px solid gray;box-sizing: border-box;top: 0;bottom: 0;left: 50%;z-index: -1;}#sk-container-id-43 div.sk-parallel-item {display: flex;flex-direction: column;z-index: 1;position: relative;background-color: white;}#sk-container-id-43 div.sk-parallel-item:first-child::after {align-self: flex-end;width: 50%;}#sk-container-id-43 div.sk-parallel-item:last-child::after {align-self: flex-start;width: 50%;}#sk-container-id-43 div.sk-parallel-item:only-child::after {width: 0;}#sk-container-id-43 div.sk-dashed-wrapped {border: 1px dashed gray;margin: 0 0.4em 0.5em 0.4em;box-sizing: border-box;padding-bottom: 0.4em;background-color: white;}#sk-container-id-43 div.sk-label label {font-family: monospace;font-weight: bold;display: inline-block;line-height: 1.2em;}#sk-container-id-43 div.sk-label-container {text-align: center;}#sk-container-id-43 div.sk-container {/* jupyter's `normalize.less` sets `[hidden] { display: none; }` but bootstrap.min.css set `[hidden] { display: none !important; }` so we also need the `!important` here to be able to override the default hidden behavior on the sphinx rendered scikit-learn.org. See: https://github.com/scikit-learn/scikit-learn/issues/21755 */display: inline-block !important;position: relative;}#sk-container-id-43 div.sk-text-repr-fallback {display: none;}</style><div id=\"sk-container-id-43\" class=\"sk-top-container\"><div class=\"sk-text-repr-fallback\"><pre>LogisticRegression()</pre><b>In a Jupyter environment, please rerun this cell to show the HTML representation or trust the notebook. <br />On GitHub, the HTML representation is unable to render, please try loading this page with nbviewer.org.</b></div><div class=\"sk-container\" hidden><div class=\"sk-item\"><div class=\"sk-estimator sk-toggleable\"><input class=\"sk-toggleable__control sk-hidden--visually\" id=\"sk-estimator-id-43\" type=\"checkbox\" checked><label for=\"sk-estimator-id-43\" class=\"sk-toggleable__label sk-toggleable__label-arrow\">LogisticRegression</label><div class=\"sk-toggleable__content\"><pre>LogisticRegression()</pre></div></div></div></div></div>"
            ]
          },
          "metadata": {},
          "execution_count": 842
        }
      ]
    },
    {
      "cell_type": "code",
      "source": [
        "#Realizamos una predicción\n",
        "y_pred = algoritmo.predict(X_test) \n",
        "y_pred"
      ],
      "metadata": {
        "id": "kn7IFWEjYoG9",
        "colab": {
          "base_uri": "https://localhost:8080/"
        },
        "outputId": "2521ce12-5864-42e2-d0ca-dd99c8155667"
      },
      "execution_count": 843,
      "outputs": [
        {
          "output_type": "execute_result",
          "data": {
            "text/plain": [
              "array(['OTROS GASTOS', 'OTROS GASTOS', 'OTROS GASTOS', 'OTROS GASTOS',\n",
              "       'OTROS GASTOS', 'OTROS GASTOS', 'OTROS GASTOS', 'OTROS GASTOS',\n",
              "       'OTROS GASTOS', 'OTROS GASTOS', 'OTROS GASTOS', 'OTROS GASTOS',\n",
              "       'OTROS GASTOS', 'OTROS GASTOS', 'OTROS GASTOS', 'OTROS GASTOS',\n",
              "       'OTROS GASTOS', 'OTROS GASTOS', 'OTROS GASTOS', 'OTROS GASTOS',\n",
              "       'OTROS GASTOS', 'OTROS GASTOS', 'OTROS GASTOS', 'OTROS GASTOS',\n",
              "       'OTROS GASTOS', 'OTROS GASTOS', 'OTROS GASTOS', 'OTROS GASTOS',\n",
              "       'OTROS GASTOS', 'OTROS GASTOS', 'OTROS GASTOS', 'OTROS GASTOS',\n",
              "       'OTROS GASTOS', 'OTROS GASTOS', 'OTROS GASTOS', 'OTROS GASTOS',\n",
              "       'OTROS GASTOS', 'OTROS GASTOS', 'OTROS GASTOS', 'OTROS GASTOS',\n",
              "       'OTROS GASTOS', 'OTROS GASTOS', 'OTROS GASTOS', 'OTROS GASTOS',\n",
              "       'OTROS GASTOS', 'OTROS GASTOS', 'OTROS GASTOS', 'OTROS GASTOS',\n",
              "       'OTROS GASTOS', 'OTROS GASTOS', 'OTROS GASTOS', 'OTROS GASTOS',\n",
              "       'OTROS GASTOS', 'OTROS GASTOS', 'OTROS GASTOS', 'OTROS GASTOS',\n",
              "       'OTROS GASTOS', 'OTROS GASTOS', 'OTROS GASTOS', 'OTROS GASTOS',\n",
              "       'OTROS GASTOS', 'OTROS GASTOS', 'OTROS GASTOS', 'OTROS GASTOS',\n",
              "       'OTROS GASTOS', 'OTROS GASTOS', 'OTROS GASTOS', 'OTROS GASTOS',\n",
              "       'OTROS GASTOS', 'OTROS GASTOS', 'OTROS GASTOS', 'OTROS GASTOS',\n",
              "       'OTROS GASTOS', 'OTROS GASTOS', 'OTROS GASTOS', 'OTROS GASTOS',\n",
              "       'OTROS GASTOS', 'OTROS GASTOS', 'OTROS GASTOS', 'OTROS GASTOS',\n",
              "       'OTROS GASTOS', 'OTROS GASTOS', 'OTROS GASTOS', 'OTROS GASTOS',\n",
              "       'OTROS GASTOS', 'OTROS GASTOS', 'OTROS GASTOS', 'OTROS GASTOS',\n",
              "       'OTROS GASTOS', 'OTROS GASTOS', 'OTROS GASTOS', 'OTROS GASTOS',\n",
              "       'OTROS GASTOS', 'OTROS GASTOS', 'OTROS GASTOS', 'OTROS GASTOS',\n",
              "       'OTROS GASTOS', 'OTROS GASTOS', 'OTROS GASTOS', 'OTROS GASTOS',\n",
              "       'OTROS GASTOS', 'OTROS GASTOS', 'OTROS GASTOS', 'OTROS GASTOS',\n",
              "       'OTROS GASTOS', 'OTROS GASTOS', 'OTROS GASTOS', 'OTROS GASTOS',\n",
              "       'OTROS GASTOS', 'OTROS GASTOS', 'OTROS GASTOS', 'OTROS GASTOS',\n",
              "       'OTROS GASTOS', 'OTROS GASTOS', 'OTROS GASTOS', 'OTROS GASTOS',\n",
              "       'OTROS GASTOS', 'OTROS GASTOS', 'OTROS GASTOS', 'OTROS GASTOS',\n",
              "       'OTROS GASTOS', 'OTROS GASTOS', 'OTROS GASTOS', 'OTROS GASTOS',\n",
              "       'OTROS GASTOS', 'OTROS GASTOS', 'OTROS GASTOS', 'OTROS GASTOS',\n",
              "       'OTROS GASTOS', 'OTROS GASTOS', 'OTROS GASTOS', 'OTROS GASTOS',\n",
              "       'OTROS GASTOS', 'OTROS GASTOS', 'OTROS GASTOS', 'OTROS GASTOS',\n",
              "       'OTROS GASTOS', 'OTROS GASTOS', 'OTROS GASTOS', 'OTROS GASTOS',\n",
              "       'OTROS GASTOS', 'OTROS GASTOS', 'OTROS GASTOS', 'OTROS GASTOS',\n",
              "       'OTROS GASTOS', 'OTROS GASTOS', 'OTROS GASTOS', 'OTROS GASTOS',\n",
              "       'OTROS GASTOS', 'OTROS GASTOS', 'OTROS GASTOS', 'OTROS GASTOS',\n",
              "       'OTROS GASTOS', 'OTROS GASTOS', 'OTROS GASTOS', 'OTROS GASTOS',\n",
              "       'OTROS GASTOS', 'OTROS GASTOS', 'OTROS GASTOS', 'OTROS GASTOS',\n",
              "       'OTROS GASTOS', 'OTROS GASTOS', 'OTROS GASTOS', 'OTROS GASTOS',\n",
              "       'OTROS GASTOS', 'OTROS GASTOS', 'OTROS GASTOS', 'OTROS GASTOS',\n",
              "       'OTROS GASTOS', 'OTROS GASTOS', 'OTROS GASTOS', 'OTROS GASTOS',\n",
              "       'OTROS GASTOS', 'OTROS GASTOS', 'OTROS GASTOS', 'OTROS GASTOS',\n",
              "       'OTROS GASTOS', 'OTROS GASTOS', 'OTROS GASTOS', 'OTROS GASTOS',\n",
              "       'OTROS GASTOS', 'OTROS GASTOS', 'OTROS GASTOS', 'OTROS GASTOS',\n",
              "       'OTROS GASTOS', 'OTROS GASTOS', 'OTROS GASTOS', 'OTROS GASTOS',\n",
              "       'OTROS GASTOS', 'OTROS GASTOS', 'OTROS GASTOS', 'OTROS GASTOS',\n",
              "       'OTROS GASTOS', 'OTROS GASTOS', 'OTROS GASTOS', 'OTROS GASTOS',\n",
              "       'OTROS GASTOS', 'OTROS GASTOS', 'OTROS GASTOS', 'OTROS GASTOS',\n",
              "       'OTROS GASTOS', 'OTROS GASTOS', 'OTROS GASTOS', 'OTROS GASTOS',\n",
              "       'OTROS GASTOS', 'OTROS GASTOS', 'OTROS GASTOS', 'OTROS GASTOS',\n",
              "       'OTROS GASTOS', 'OTROS GASTOS', 'OTROS GASTOS', 'OTROS GASTOS',\n",
              "       'OTROS GASTOS', 'COMPRAS', 'OTROS GASTOS', 'OTROS GASTOS',\n",
              "       'OTROS GASTOS', 'OTROS GASTOS', 'OTROS GASTOS', 'OTROS GASTOS',\n",
              "       'OTROS GASTOS', 'OTROS GASTOS', 'OTROS GASTOS', 'OTROS GASTOS',\n",
              "       'OTROS GASTOS', 'OTROS GASTOS', 'OTROS GASTOS', 'OTROS GASTOS',\n",
              "       'OTROS GASTOS', 'OTROS GASTOS', 'OTROS GASTOS', 'OTROS GASTOS',\n",
              "       'OTROS GASTOS', 'OTROS GASTOS', 'OTROS GASTOS', 'OTROS GASTOS',\n",
              "       'OTROS GASTOS', 'OTROS GASTOS', 'OTROS GASTOS', 'OTROS GASTOS',\n",
              "       'OTROS GASTOS', 'OTROS GASTOS', 'OTROS GASTOS', 'OTROS GASTOS',\n",
              "       'OTROS GASTOS', 'OTROS GASTOS', 'OTROS GASTOS', 'OTROS GASTOS',\n",
              "       'OTROS GASTOS', 'OTROS GASTOS', 'OTROS GASTOS', 'OTROS GASTOS',\n",
              "       'OTROS GASTOS', 'OTROS GASTOS', 'OTROS GASTOS', 'OTROS GASTOS',\n",
              "       'OTROS GASTOS', 'OTROS GASTOS', 'OTROS GASTOS', 'OTROS GASTOS',\n",
              "       'OTROS GASTOS', 'OTROS GASTOS', 'OTROS GASTOS', 'OTROS GASTOS',\n",
              "       'OTROS GASTOS', 'OTROS GASTOS', 'OTROS GASTOS', 'OTROS GASTOS',\n",
              "       'OTROS GASTOS', 'OTROS GASTOS', 'OTROS GASTOS', 'OTROS GASTOS',\n",
              "       'OTROS GASTOS', 'OTROS GASTOS', 'OTROS GASTOS', 'OTROS GASTOS',\n",
              "       'OTROS GASTOS', 'OTROS GASTOS', 'OTROS GASTOS', 'OTROS GASTOS',\n",
              "       'OTROS GASTOS', 'OTROS GASTOS', 'OTROS GASTOS', 'OTROS GASTOS',\n",
              "       'OTROS GASTOS', 'OTROS GASTOS', 'OTROS GASTOS', 'OTROS GASTOS',\n",
              "       'OTROS GASTOS', 'OTROS GASTOS', 'OTROS GASTOS', 'OTROS GASTOS',\n",
              "       'OTROS GASTOS', 'OTROS GASTOS', 'OTROS GASTOS', 'OTROS GASTOS',\n",
              "       'OTROS GASTOS', 'OTROS GASTOS', 'OTROS GASTOS', 'OTROS GASTOS',\n",
              "       'OTROS GASTOS', 'OTROS GASTOS', 'OTROS GASTOS', 'OTROS GASTOS',\n",
              "       'OTROS GASTOS', 'OTROS GASTOS', 'OTROS GASTOS', 'OTROS GASTOS',\n",
              "       'OTROS GASTOS', 'OTROS GASTOS', 'OTROS GASTOS', 'OTROS GASTOS',\n",
              "       'OTROS GASTOS', 'OTROS GASTOS', 'OTROS GASTOS', 'OTROS GASTOS',\n",
              "       'OTROS GASTOS', 'OTROS GASTOS', 'OTROS GASTOS', 'OTROS GASTOS',\n",
              "       'OTROS GASTOS', 'OTROS GASTOS', 'OTROS GASTOS', 'OTROS GASTOS',\n",
              "       'OTROS GASTOS', 'OTROS GASTOS', 'OTROS GASTOS', 'OTROS GASTOS',\n",
              "       'OTROS GASTOS', 'OTROS GASTOS', 'OTROS GASTOS', 'OTROS GASTOS',\n",
              "       'OTROS GASTOS', 'OTROS GASTOS', 'OTROS GASTOS', 'OTROS GASTOS',\n",
              "       'OTROS GASTOS', 'OTROS GASTOS', 'OTROS GASTOS', 'OTROS GASTOS',\n",
              "       'OTROS GASTOS', 'OTROS GASTOS', 'OTROS GASTOS', 'OTROS GASTOS',\n",
              "       'OTROS GASTOS', 'OTROS GASTOS', 'OTROS GASTOS', 'OTROS GASTOS',\n",
              "       'OTROS GASTOS', 'OTROS GASTOS', 'OTROS GASTOS', 'OTROS GASTOS',\n",
              "       'OTROS GASTOS', 'OTROS GASTOS', 'OTROS GASTOS', 'OTROS GASTOS',\n",
              "       'OTROS GASTOS', 'OTROS GASTOS', 'OTROS GASTOS', 'OTROS GASTOS',\n",
              "       'OTROS GASTOS', 'OTROS GASTOS', 'OTROS GASTOS', 'OTROS GASTOS',\n",
              "       'OTROS GASTOS', 'OTROS GASTOS', 'OTROS GASTOS', 'OTROS GASTOS',\n",
              "       'OTROS GASTOS', 'OTROS GASTOS', 'OTROS GASTOS', 'OTROS GASTOS',\n",
              "       'OTROS GASTOS', 'OTROS GASTOS', 'OTROS GASTOS', 'OTROS GASTOS',\n",
              "       'OTROS GASTOS', 'OTROS GASTOS', 'OTROS GASTOS', 'OTROS GASTOS',\n",
              "       'OTROS GASTOS', 'OTROS GASTOS', 'OTROS GASTOS', 'OTROS GASTOS',\n",
              "       'OTROS GASTOS', 'OTROS GASTOS', 'OTROS GASTOS', 'OTROS GASTOS',\n",
              "       'OTROS GASTOS', 'OTROS GASTOS', 'OTROS GASTOS', 'OTROS GASTOS',\n",
              "       'OTROS GASTOS', 'OTROS GASTOS', 'OTROS GASTOS', 'OTROS GASTOS',\n",
              "       'OTROS GASTOS', 'OTROS GASTOS', 'OTROS GASTOS', 'OTROS GASTOS',\n",
              "       'OTROS GASTOS', 'OTROS GASTOS', 'OTROS GASTOS', 'OTROS GASTOS',\n",
              "       'OTROS GASTOS', 'OTROS GASTOS', 'OTROS GASTOS', 'OTROS GASTOS',\n",
              "       'OTROS GASTOS', 'OTROS GASTOS', 'OTROS GASTOS', 'OTROS GASTOS',\n",
              "       'OTROS GASTOS', 'OTROS GASTOS', 'OTROS GASTOS', 'OTROS GASTOS',\n",
              "       'OTROS GASTOS', 'OTROS GASTOS', 'OTROS GASTOS', 'OTROS GASTOS',\n",
              "       'OTROS GASTOS', 'OTROS GASTOS', 'OTROS GASTOS', 'OTROS GASTOS',\n",
              "       'OTROS GASTOS', 'OTROS GASTOS', 'OTROS GASTOS', 'OTROS GASTOS',\n",
              "       'OTROS GASTOS', 'OTROS GASTOS', 'OTROS GASTOS', 'OTROS GASTOS',\n",
              "       'OTROS GASTOS', 'OTROS GASTOS', 'OTROS GASTOS', 'OTROS GASTOS',\n",
              "       'OTROS GASTOS', 'OTROS GASTOS', 'OTROS GASTOS', 'OTROS GASTOS',\n",
              "       'OTROS GASTOS', 'OTROS GASTOS', 'OTROS GASTOS', 'OTROS GASTOS',\n",
              "       'OTROS GASTOS', 'OTROS GASTOS', 'OTROS GASTOS', 'OTROS GASTOS',\n",
              "       'OTROS GASTOS', 'OTROS GASTOS', 'OTROS GASTOS', 'OTROS GASTOS',\n",
              "       'OTROS GASTOS', 'OTROS GASTOS', 'OTROS GASTOS', 'OTROS GASTOS',\n",
              "       'OTROS GASTOS', 'OTROS GASTOS', 'OTROS GASTOS', 'OTROS GASTOS',\n",
              "       'OTROS GASTOS', 'OTROS GASTOS', 'OTROS GASTOS', 'OTROS GASTOS',\n",
              "       'OTROS GASTOS', 'OTROS GASTOS', 'OTROS GASTOS', 'OTROS GASTOS',\n",
              "       'OTROS GASTOS', 'OTROS GASTOS', 'OTROS GASTOS', 'OTROS GASTOS',\n",
              "       'OTROS GASTOS', 'OTROS GASTOS', 'OTROS GASTOS', 'OTROS GASTOS',\n",
              "       'OTROS GASTOS', 'OTROS GASTOS', 'OTROS GASTOS', 'OTROS GASTOS',\n",
              "       'OTROS GASTOS', 'OTROS GASTOS', 'OTROS GASTOS', 'OTROS GASTOS',\n",
              "       'OTROS GASTOS', 'OTROS GASTOS', 'OTROS GASTOS', 'OTROS GASTOS',\n",
              "       'OTROS GASTOS', 'OTROS GASTOS', 'OTROS GASTOS', 'OTROS GASTOS',\n",
              "       'OTROS GASTOS', 'OTROS GASTOS', 'OTROS GASTOS', 'OTROS GASTOS',\n",
              "       'OTROS GASTOS', 'OTROS GASTOS', 'OTROS GASTOS', 'OTROS GASTOS',\n",
              "       'OTROS GASTOS', 'OTROS GASTOS', 'OTROS GASTOS', 'OTROS GASTOS',\n",
              "       'OTROS GASTOS', 'OTROS GASTOS', 'OTROS GASTOS', 'OTROS GASTOS',\n",
              "       'OTROS GASTOS', 'OTROS GASTOS', 'OTROS GASTOS', 'OTROS GASTOS',\n",
              "       'OTROS GASTOS', 'OTROS GASTOS', 'OTROS GASTOS', 'OTROS GASTOS',\n",
              "       'OTROS GASTOS', 'OTROS GASTOS', 'OTROS GASTOS', 'OTROS GASTOS',\n",
              "       'OTROS GASTOS', 'OTROS GASTOS', 'OTROS GASTOS', 'OTROS GASTOS',\n",
              "       'OTROS GASTOS', 'OTROS GASTOS', 'OTROS GASTOS', 'OTROS GASTOS',\n",
              "       'OTROS GASTOS', 'OTROS GASTOS', 'OTROS GASTOS', 'OTROS GASTOS',\n",
              "       'OTROS GASTOS', 'OTROS GASTOS', 'OTROS GASTOS', 'OTROS GASTOS',\n",
              "       'OTROS GASTOS', 'OTROS GASTOS', 'OTROS GASTOS', 'OTROS GASTOS',\n",
              "       'OTROS GASTOS', 'OTROS GASTOS', 'OTROS GASTOS', 'OTROS GASTOS',\n",
              "       'OTROS GASTOS', 'OTROS GASTOS', 'OTROS GASTOS', 'OTROS GASTOS',\n",
              "       'OTROS GASTOS', 'OTROS GASTOS', 'OTROS GASTOS', 'OTROS GASTOS',\n",
              "       'OTROS GASTOS', 'OTROS GASTOS', 'OTROS GASTOS', 'OTROS GASTOS',\n",
              "       'OTROS GASTOS', 'OTROS GASTOS', 'OTROS GASTOS', 'OTROS GASTOS',\n",
              "       'OTROS GASTOS', 'OTROS GASTOS', 'OTROS GASTOS', 'OTROS GASTOS',\n",
              "       'OTROS GASTOS', 'OTROS GASTOS', 'OTROS GASTOS', 'OTROS GASTOS',\n",
              "       'OTROS GASTOS', 'OTROS GASTOS', 'OTROS GASTOS', 'OTROS GASTOS',\n",
              "       'OTROS GASTOS', 'OTROS GASTOS', 'OTROS GASTOS', 'OTROS GASTOS',\n",
              "       'OTROS GASTOS', 'OTROS GASTOS', 'OTROS GASTOS', 'OTROS GASTOS',\n",
              "       'OTROS GASTOS', 'OTROS GASTOS', 'OTROS GASTOS', 'OTROS GASTOS',\n",
              "       'OTROS GASTOS', 'OTROS GASTOS', 'OTROS GASTOS', 'OTROS GASTOS',\n",
              "       'OTROS GASTOS', 'OTROS GASTOS', 'OTROS GASTOS', 'OTROS GASTOS',\n",
              "       'OTROS GASTOS', 'OTROS GASTOS', 'OTROS GASTOS', 'OTROS GASTOS',\n",
              "       'OTROS GASTOS', 'OTROS GASTOS', 'OTROS GASTOS', 'OTROS GASTOS',\n",
              "       'OTROS GASTOS', 'OTROS GASTOS', 'OTROS GASTOS', 'OTROS GASTOS',\n",
              "       'OTROS GASTOS', 'OTROS GASTOS', 'OTROS GASTOS', 'OTROS GASTOS',\n",
              "       'OTROS GASTOS', 'OTROS GASTOS', 'OTROS GASTOS', 'OTROS GASTOS',\n",
              "       'OTROS GASTOS', 'OTROS GASTOS', 'OTROS GASTOS', 'OTROS GASTOS',\n",
              "       'OTROS GASTOS', 'OTROS GASTOS', 'OTROS GASTOS', 'OTROS GASTOS',\n",
              "       'OTROS GASTOS', 'OTROS GASTOS', 'OTROS GASTOS', 'OTROS GASTOS',\n",
              "       'OTROS GASTOS', 'OTROS GASTOS', 'OTROS GASTOS', 'OTROS GASTOS',\n",
              "       'OTROS GASTOS', 'OTROS GASTOS', 'OTROS GASTOS', 'OTROS GASTOS',\n",
              "       'OTROS GASTOS', 'OTROS GASTOS', 'OTROS GASTOS', 'OTROS GASTOS',\n",
              "       'OTROS GASTOS', 'OTROS GASTOS', 'OTROS GASTOS', 'OTROS GASTOS',\n",
              "       'OTROS GASTOS', 'OTROS GASTOS', 'OTROS GASTOS', 'OTROS GASTOS',\n",
              "       'OTROS GASTOS', 'OTROS GASTOS', 'OTROS GASTOS', 'OTROS GASTOS',\n",
              "       'OTROS GASTOS', 'OTROS GASTOS', 'OTROS GASTOS', 'OTROS GASTOS',\n",
              "       'OTROS GASTOS', 'OTROS GASTOS', 'OTROS GASTOS', 'OTROS GASTOS',\n",
              "       'OTROS GASTOS', 'OTROS GASTOS', 'OTROS GASTOS', 'OTROS GASTOS',\n",
              "       'OTROS GASTOS', 'OTROS GASTOS', 'OTROS GASTOS', 'OTROS GASTOS',\n",
              "       'OTROS GASTOS', 'OTROS GASTOS', 'OTROS GASTOS', 'OTROS GASTOS',\n",
              "       'OTROS GASTOS', 'OTROS GASTOS', 'OTROS GASTOS', 'OTROS GASTOS',\n",
              "       'OTROS GASTOS', 'OTROS GASTOS', 'OTROS GASTOS', 'OTROS GASTOS',\n",
              "       'OTROS GASTOS', 'OTROS GASTOS', 'OTROS GASTOS', 'OTROS GASTOS',\n",
              "       'OTROS GASTOS', 'OTROS GASTOS', 'OTROS GASTOS', 'OTROS GASTOS',\n",
              "       'OTROS GASTOS', 'OTROS GASTOS', 'OTROS GASTOS', 'OTROS GASTOS',\n",
              "       'OTROS GASTOS', 'OTROS GASTOS', 'OTROS GASTOS', 'OTROS GASTOS',\n",
              "       'OTROS GASTOS', 'OTROS GASTOS', 'OTROS GASTOS', 'OTROS GASTOS',\n",
              "       'OTROS GASTOS', 'OTROS GASTOS', 'OTROS GASTOS', 'OTROS GASTOS',\n",
              "       'OTROS GASTOS', 'OTROS GASTOS', 'OTROS GASTOS', 'OTROS GASTOS',\n",
              "       'OTROS GASTOS', 'OTROS GASTOS', 'OTROS GASTOS', 'OTROS GASTOS',\n",
              "       'OTROS GASTOS', 'OTROS GASTOS', 'OTROS GASTOS', 'OTROS GASTOS',\n",
              "       'OTROS GASTOS', 'OTROS GASTOS', 'OTROS GASTOS', 'OTROS GASTOS',\n",
              "       'OTROS GASTOS', 'OTROS GASTOS', 'OTROS GASTOS', 'OTROS GASTOS',\n",
              "       'OTROS GASTOS', 'OTROS GASTOS', 'OTROS GASTOS', 'OTROS GASTOS',\n",
              "       'OTROS GASTOS', 'OTROS GASTOS', 'OTROS GASTOS', 'OTROS GASTOS',\n",
              "       'OTROS GASTOS', 'OTROS GASTOS', 'OTROS GASTOS', 'OTROS GASTOS',\n",
              "       'OTROS GASTOS', 'OTROS GASTOS', 'OTROS GASTOS', 'OTROS GASTOS',\n",
              "       'OTROS GASTOS', 'OTROS GASTOS', 'OTROS GASTOS', 'OTROS GASTOS',\n",
              "       'OTROS GASTOS', 'OTROS GASTOS', 'OTROS GASTOS', 'OTROS GASTOS',\n",
              "       'OTROS GASTOS', 'OTROS GASTOS', 'OTROS GASTOS', 'OTROS GASTOS',\n",
              "       'OTROS GASTOS', 'OTROS GASTOS', 'OTROS GASTOS', 'OTROS GASTOS',\n",
              "       'OTROS GASTOS', 'OTROS GASTOS', 'OTROS GASTOS', 'OTROS GASTOS',\n",
              "       'OTROS GASTOS', 'OTROS GASTOS', 'OTROS GASTOS', 'OTROS GASTOS',\n",
              "       'OTROS GASTOS', 'OTROS GASTOS', 'OTROS GASTOS', 'OTROS GASTOS',\n",
              "       'OTROS GASTOS', 'OTROS GASTOS'], dtype=object)"
            ]
          },
          "metadata": {},
          "execution_count": 843
        }
      ]
    },
    {
      "cell_type": "code",
      "source": [
        "#Verifico la matriz de Confusión\n",
        "from sklearn.metrics import confusion_matrix\n",
        "matriz = confusion_matrix(y_test, y_pred)\n",
        "print('Matriz de Confusión:')\n",
        "print(matriz)"
      ],
      "metadata": {
        "colab": {
          "base_uri": "https://localhost:8080/"
        },
        "id": "LCjvgcJh2mWz",
        "outputId": "e97732df-baeb-465b-a104-974ef149d5b0"
      },
      "execution_count": 844,
      "outputs": [
        {
          "output_type": "stream",
          "name": "stdout",
          "text": [
            "Matriz de Confusión:\n",
            "[[  1 338]\n",
            " [  0 427]]\n"
          ]
        }
      ]
    },
    {
      "cell_type": "code",
      "source": [
        "#Calculo la precisión del modelo\n",
        "from sklearn.metrics import precision_score\n",
        "\n",
        "precision = precision_score(y_test, y_pred, average=\"binary\", pos_label=\"COMPRAS\")\n",
        "print('Precisión del modelo:')\n",
        "prec_.append(precision)\n",
        "print(precision)"
      ],
      "metadata": {
        "colab": {
          "base_uri": "https://localhost:8080/"
        },
        "id": "kgcgrp5R2mSB",
        "outputId": "170d9143-a15d-4146-f3ea-b6822841ed6c"
      },
      "execution_count": 845,
      "outputs": [
        {
          "output_type": "stream",
          "name": "stdout",
          "text": [
            "Precisión del modelo:\n",
            "1.0\n"
          ]
        }
      ]
    },
    {
      "cell_type": "code",
      "source": [
        "#Calculo la exactitud del modelo\n",
        "from sklearn.metrics import accuracy_score\n",
        "\n",
        "exactitud = accuracy_score(y_test, y_pred)\n",
        "print('Exactitud del modelo:')\n",
        "exac_.append(exactitud)\n",
        "print(exactitud)"
      ],
      "metadata": {
        "colab": {
          "base_uri": "https://localhost:8080/"
        },
        "id": "ojOVuUaI2mMH",
        "outputId": "ab04fe4a-2c39-4c23-814f-14b0c515362f"
      },
      "execution_count": 846,
      "outputs": [
        {
          "output_type": "stream",
          "name": "stdout",
          "text": [
            "Exactitud del modelo:\n",
            "0.5587467362924282\n"
          ]
        }
      ]
    },
    {
      "cell_type": "code",
      "source": [
        "#Calculo la sensibilidad del modelo\n",
        "from sklearn.metrics import recall_score\n",
        "\n",
        "sensibilidad = recall_score(y_test, y_pred, average=\"binary\", pos_label=\"COMPRAS\")\n",
        "print('Sensibilidad del modelo:')\n",
        "sensi_.append(sensibilidad)\n",
        "print(sensibilidad)"
      ],
      "metadata": {
        "colab": {
          "base_uri": "https://localhost:8080/"
        },
        "id": "NKc8kFoa2i2b",
        "outputId": "e4dde276-6ffa-4880-f4c7-93d1d1e6e9bb"
      },
      "execution_count": 847,
      "outputs": [
        {
          "output_type": "stream",
          "name": "stdout",
          "text": [
            "Sensibilidad del modelo:\n",
            "0.0029498525073746312\n"
          ]
        }
      ]
    },
    {
      "cell_type": "code",
      "source": [
        "# el puntaje F1 que es una combinación entre la precisión y la sensibilidad, para esto importamos f1_score.\n",
        "#Calculo el Puntaje F1 del modelo\n",
        "from sklearn.metrics import f1_score\n",
        "\n",
        "puntajef1 = f1_score(y_test, y_pred, average=\"binary\", pos_label=\"COMPRAS\")\n",
        "print('Puntaje F1 del modelo:')\n",
        "f1_.append(puntajef1)\n",
        "print(puntajef1)"
      ],
      "metadata": {
        "id": "ibq3d_zHYoA2",
        "colab": {
          "base_uri": "https://localhost:8080/"
        },
        "outputId": "a7fc1aba-b872-4e1f-9b2c-53463657adaa"
      },
      "execution_count": 848,
      "outputs": [
        {
          "output_type": "stream",
          "name": "stdout",
          "text": [
            "Puntaje F1 del modelo:\n",
            "0.0058823529411764705\n"
          ]
        }
      ]
    },
    {
      "cell_type": "markdown",
      "source": [
        "##**2023**"
      ],
      "metadata": {
        "id": "whljjahZVWyn"
      }
    },
    {
      "cell_type": "code",
      "source": [
        "#Variable dicotómica\n",
        "gastos_23['TIPO GASTO'] = np.where(gastos_23['TIPO GASTO']=='COMPRAS','COMPRAS',np.where(gastos_23['TIPO GASTO']=='COMPRAS ','COMPRAS','OTROS GASTOS'))"
      ],
      "metadata": {
        "id": "ZIsCczaaRFh2"
      },
      "execution_count": 849,
      "outputs": []
    },
    {
      "cell_type": "code",
      "source": [
        "#Declaramos las variables dependientes e independientes para la regresión Logística\n",
        "Vars_Indep= gastos_23[['TOTAL MX']]\n",
        "Var_Dep= gastos_23['TIPO GASTO']"
      ],
      "metadata": {
        "id": "UpTe1UuRcgnE"
      },
      "execution_count": 850,
      "outputs": []
    },
    {
      "cell_type": "code",
      "source": [
        "#Redefinimos las variables \n",
        "X= Vars_Indep\n",
        "y= Var_Dep"
      ],
      "metadata": {
        "id": "wACjx4bAchca"
      },
      "execution_count": 851,
      "outputs": []
    },
    {
      "cell_type": "code",
      "source": [
        "#Dividimos el conjunto de datos en la parte de entrenamiento y prueba:\n",
        "X_train, X_test, y_train, y_test = train_test_split(X, y, test_size=0.3, random_state = 42)"
      ],
      "metadata": {
        "id": "0SlqN20_ckc5"
      },
      "execution_count": 852,
      "outputs": []
    },
    {
      "cell_type": "code",
      "source": [
        "#Se escalan todos los datos\n",
        "escalar = StandardScaler()"
      ],
      "metadata": {
        "id": "MkwSH7-1eZpR"
      },
      "execution_count": 853,
      "outputs": []
    },
    {
      "cell_type": "code",
      "source": [
        "#Para realizar el escalamiento de las variables “X” tanto de entrenamiento como de prueba, utilizaremos fit_transform\n",
        "X_train = escalar.fit_transform(X_train)\n",
        "X_test = escalar.transform(X_test)"
      ],
      "metadata": {
        "id": "m7G55cbNefKi"
      },
      "execution_count": 854,
      "outputs": []
    },
    {
      "cell_type": "code",
      "source": [
        "#Definimos el algoritmo a utilizar\n",
        "from sklearn.linear_model import LogisticRegression\n",
        "algoritmo = LogisticRegression()"
      ],
      "metadata": {
        "id": "9ODFuBepehxE"
      },
      "execution_count": 855,
      "outputs": []
    },
    {
      "cell_type": "code",
      "source": [
        "#Entrenamos el modelo\n",
        "algoritmo.fit(X_train, y_train)"
      ],
      "metadata": {
        "colab": {
          "base_uri": "https://localhost:8080/",
          "height": 74
        },
        "id": "TGoNkF8eej4u",
        "outputId": "19c0492f-5dba-40b0-a8d1-36bd45102b9c"
      },
      "execution_count": 856,
      "outputs": [
        {
          "output_type": "execute_result",
          "data": {
            "text/plain": [
              "LogisticRegression()"
            ],
            "text/html": [
              "<style>#sk-container-id-44 {color: black;background-color: white;}#sk-container-id-44 pre{padding: 0;}#sk-container-id-44 div.sk-toggleable {background-color: white;}#sk-container-id-44 label.sk-toggleable__label {cursor: pointer;display: block;width: 100%;margin-bottom: 0;padding: 0.3em;box-sizing: border-box;text-align: center;}#sk-container-id-44 label.sk-toggleable__label-arrow:before {content: \"▸\";float: left;margin-right: 0.25em;color: #696969;}#sk-container-id-44 label.sk-toggleable__label-arrow:hover:before {color: black;}#sk-container-id-44 div.sk-estimator:hover label.sk-toggleable__label-arrow:before {color: black;}#sk-container-id-44 div.sk-toggleable__content {max-height: 0;max-width: 0;overflow: hidden;text-align: left;background-color: #f0f8ff;}#sk-container-id-44 div.sk-toggleable__content pre {margin: 0.2em;color: black;border-radius: 0.25em;background-color: #f0f8ff;}#sk-container-id-44 input.sk-toggleable__control:checked~div.sk-toggleable__content {max-height: 200px;max-width: 100%;overflow: auto;}#sk-container-id-44 input.sk-toggleable__control:checked~label.sk-toggleable__label-arrow:before {content: \"▾\";}#sk-container-id-44 div.sk-estimator input.sk-toggleable__control:checked~label.sk-toggleable__label {background-color: #d4ebff;}#sk-container-id-44 div.sk-label input.sk-toggleable__control:checked~label.sk-toggleable__label {background-color: #d4ebff;}#sk-container-id-44 input.sk-hidden--visually {border: 0;clip: rect(1px 1px 1px 1px);clip: rect(1px, 1px, 1px, 1px);height: 1px;margin: -1px;overflow: hidden;padding: 0;position: absolute;width: 1px;}#sk-container-id-44 div.sk-estimator {font-family: monospace;background-color: #f0f8ff;border: 1px dotted black;border-radius: 0.25em;box-sizing: border-box;margin-bottom: 0.5em;}#sk-container-id-44 div.sk-estimator:hover {background-color: #d4ebff;}#sk-container-id-44 div.sk-parallel-item::after {content: \"\";width: 100%;border-bottom: 1px solid gray;flex-grow: 1;}#sk-container-id-44 div.sk-label:hover label.sk-toggleable__label {background-color: #d4ebff;}#sk-container-id-44 div.sk-serial::before {content: \"\";position: absolute;border-left: 1px solid gray;box-sizing: border-box;top: 0;bottom: 0;left: 50%;z-index: 0;}#sk-container-id-44 div.sk-serial {display: flex;flex-direction: column;align-items: center;background-color: white;padding-right: 0.2em;padding-left: 0.2em;position: relative;}#sk-container-id-44 div.sk-item {position: relative;z-index: 1;}#sk-container-id-44 div.sk-parallel {display: flex;align-items: stretch;justify-content: center;background-color: white;position: relative;}#sk-container-id-44 div.sk-item::before, #sk-container-id-44 div.sk-parallel-item::before {content: \"\";position: absolute;border-left: 1px solid gray;box-sizing: border-box;top: 0;bottom: 0;left: 50%;z-index: -1;}#sk-container-id-44 div.sk-parallel-item {display: flex;flex-direction: column;z-index: 1;position: relative;background-color: white;}#sk-container-id-44 div.sk-parallel-item:first-child::after {align-self: flex-end;width: 50%;}#sk-container-id-44 div.sk-parallel-item:last-child::after {align-self: flex-start;width: 50%;}#sk-container-id-44 div.sk-parallel-item:only-child::after {width: 0;}#sk-container-id-44 div.sk-dashed-wrapped {border: 1px dashed gray;margin: 0 0.4em 0.5em 0.4em;box-sizing: border-box;padding-bottom: 0.4em;background-color: white;}#sk-container-id-44 div.sk-label label {font-family: monospace;font-weight: bold;display: inline-block;line-height: 1.2em;}#sk-container-id-44 div.sk-label-container {text-align: center;}#sk-container-id-44 div.sk-container {/* jupyter's `normalize.less` sets `[hidden] { display: none; }` but bootstrap.min.css set `[hidden] { display: none !important; }` so we also need the `!important` here to be able to override the default hidden behavior on the sphinx rendered scikit-learn.org. See: https://github.com/scikit-learn/scikit-learn/issues/21755 */display: inline-block !important;position: relative;}#sk-container-id-44 div.sk-text-repr-fallback {display: none;}</style><div id=\"sk-container-id-44\" class=\"sk-top-container\"><div class=\"sk-text-repr-fallback\"><pre>LogisticRegression()</pre><b>In a Jupyter environment, please rerun this cell to show the HTML representation or trust the notebook. <br />On GitHub, the HTML representation is unable to render, please try loading this page with nbviewer.org.</b></div><div class=\"sk-container\" hidden><div class=\"sk-item\"><div class=\"sk-estimator sk-toggleable\"><input class=\"sk-toggleable__control sk-hidden--visually\" id=\"sk-estimator-id-44\" type=\"checkbox\" checked><label for=\"sk-estimator-id-44\" class=\"sk-toggleable__label sk-toggleable__label-arrow\">LogisticRegression</label><div class=\"sk-toggleable__content\"><pre>LogisticRegression()</pre></div></div></div></div></div>"
            ]
          },
          "metadata": {},
          "execution_count": 856
        }
      ]
    },
    {
      "cell_type": "code",
      "source": [
        "#Realizamos una predicción\n",
        "y_pred = algoritmo.predict(X_test) \n",
        "y_pred"
      ],
      "metadata": {
        "id": "RmhkpqPufPtq",
        "colab": {
          "base_uri": "https://localhost:8080/"
        },
        "outputId": "e70ac67b-f5a9-4820-eb58-9eaf77a02920"
      },
      "execution_count": 857,
      "outputs": [
        {
          "output_type": "execute_result",
          "data": {
            "text/plain": [
              "array(['COMPRAS', 'COMPRAS', 'COMPRAS', 'COMPRAS', 'COMPRAS', 'COMPRAS',\n",
              "       'COMPRAS', 'COMPRAS', 'COMPRAS', 'COMPRAS', 'COMPRAS', 'COMPRAS',\n",
              "       'COMPRAS', 'COMPRAS', 'COMPRAS', 'COMPRAS', 'COMPRAS', 'COMPRAS',\n",
              "       'COMPRAS', 'COMPRAS', 'COMPRAS', 'COMPRAS', 'COMPRAS', 'COMPRAS',\n",
              "       'COMPRAS', 'COMPRAS', 'COMPRAS', 'COMPRAS', 'COMPRAS', 'COMPRAS',\n",
              "       'COMPRAS', 'COMPRAS', 'COMPRAS', 'COMPRAS', 'COMPRAS', 'COMPRAS',\n",
              "       'COMPRAS', 'COMPRAS', 'COMPRAS', 'COMPRAS', 'COMPRAS', 'COMPRAS',\n",
              "       'COMPRAS', 'COMPRAS', 'COMPRAS', 'COMPRAS', 'COMPRAS', 'COMPRAS',\n",
              "       'COMPRAS', 'COMPRAS', 'COMPRAS', 'COMPRAS', 'COMPRAS', 'COMPRAS',\n",
              "       'COMPRAS', 'COMPRAS', 'COMPRAS', 'COMPRAS', 'COMPRAS', 'COMPRAS',\n",
              "       'COMPRAS', 'COMPRAS', 'COMPRAS', 'COMPRAS', 'COMPRAS', 'COMPRAS',\n",
              "       'COMPRAS', 'COMPRAS', 'COMPRAS', 'COMPRAS', 'COMPRAS', 'COMPRAS',\n",
              "       'COMPRAS', 'COMPRAS', 'COMPRAS', 'COMPRAS', 'COMPRAS', 'COMPRAS',\n",
              "       'COMPRAS', 'COMPRAS', 'COMPRAS', 'COMPRAS', 'COMPRAS', 'COMPRAS',\n",
              "       'COMPRAS', 'COMPRAS', 'COMPRAS', 'COMPRAS', 'COMPRAS', 'COMPRAS',\n",
              "       'COMPRAS', 'COMPRAS', 'COMPRAS', 'COMPRAS', 'COMPRAS', 'COMPRAS',\n",
              "       'COMPRAS', 'COMPRAS', 'COMPRAS', 'COMPRAS', 'COMPRAS', 'COMPRAS',\n",
              "       'COMPRAS', 'COMPRAS', 'COMPRAS', 'COMPRAS', 'COMPRAS', 'COMPRAS',\n",
              "       'COMPRAS', 'COMPRAS', 'COMPRAS', 'COMPRAS', 'COMPRAS', 'COMPRAS',\n",
              "       'COMPRAS', 'COMPRAS', 'COMPRAS', 'COMPRAS', 'COMPRAS', 'COMPRAS'],\n",
              "      dtype=object)"
            ]
          },
          "metadata": {},
          "execution_count": 857
        }
      ]
    },
    {
      "cell_type": "code",
      "source": [
        "#Verifico la matriz de Confusión\n",
        "from sklearn.metrics import confusion_matrix\n",
        "matriz = confusion_matrix(y_test, y_pred)\n",
        "print('Matriz de Confusión:')\n",
        "print(matriz)"
      ],
      "metadata": {
        "colab": {
          "base_uri": "https://localhost:8080/"
        },
        "id": "HcmoerMWfSgz",
        "outputId": "14f23aa7-d2e5-4452-be5a-ea944cc19761"
      },
      "execution_count": 858,
      "outputs": [
        {
          "output_type": "stream",
          "name": "stdout",
          "text": [
            "Matriz de Confusión:\n",
            "[[63  0]\n",
            " [57  0]]\n"
          ]
        }
      ]
    },
    {
      "cell_type": "code",
      "source": [
        "#Calculo la precisión del modelo\n",
        "from sklearn.metrics import precision_score\n",
        "\n",
        "precision = precision_score(y_test, y_pred, average=\"binary\", pos_label=\"COMPRAS\")\n",
        "print('Precisión del modelo:')\n",
        "prec_.append(precision)\n",
        "print(precision)"
      ],
      "metadata": {
        "colab": {
          "base_uri": "https://localhost:8080/"
        },
        "id": "EZLYhQv9ffsZ",
        "outputId": "97069666-f4ea-438e-9110-0767786f2af4"
      },
      "execution_count": 859,
      "outputs": [
        {
          "output_type": "stream",
          "name": "stdout",
          "text": [
            "Precisión del modelo:\n",
            "0.525\n"
          ]
        }
      ]
    },
    {
      "cell_type": "code",
      "source": [
        "#Calculo la exactitud del modelo\n",
        "from sklearn.metrics import accuracy_score\n",
        "\n",
        "exactitud = accuracy_score(y_test, y_pred)\n",
        "print('Exactitud del modelo:')\n",
        "exac_.append(exactitud)\n",
        "print(exactitud)"
      ],
      "metadata": {
        "colab": {
          "base_uri": "https://localhost:8080/"
        },
        "id": "JuQmoNf8gPHT",
        "outputId": "fc3db9a3-476f-40ac-ffff-66b21ab7a051"
      },
      "execution_count": 860,
      "outputs": [
        {
          "output_type": "stream",
          "name": "stdout",
          "text": [
            "Exactitud del modelo:\n",
            "0.525\n"
          ]
        }
      ]
    },
    {
      "cell_type": "code",
      "source": [
        "#Calculo la sensibilidad del modelo\n",
        "from sklearn.metrics import recall_score\n",
        "\n",
        "sensibilidad = recall_score(y_test, y_pred, average=\"binary\", pos_label=\"COMPRAS\")\n",
        "print('Sensibilidad del modelo:')\n",
        "sensi_.append(sensibilidad)\n",
        "print(sensibilidad)"
      ],
      "metadata": {
        "colab": {
          "base_uri": "https://localhost:8080/"
        },
        "id": "2ROKMocYgRNb",
        "outputId": "9d36eac1-1e7a-454c-ad8d-3989e3d1e41e"
      },
      "execution_count": 861,
      "outputs": [
        {
          "output_type": "stream",
          "name": "stdout",
          "text": [
            "Sensibilidad del modelo:\n",
            "1.0\n"
          ]
        }
      ]
    },
    {
      "cell_type": "code",
      "source": [
        "# el puntaje F1 que es una combinación entre la precisión y la sensibilidad, para esto importamos f1_score.\n",
        "#Calculo el Puntaje F1 del modelo\n",
        "from sklearn.metrics import f1_score\n",
        "\n",
        "puntajef1 = f1_score(y_test, y_pred, average=\"binary\", pos_label=\"COMPRAS\")\n",
        "print('Puntaje F1 del modelo:')\n",
        "f1_.append(puntajef1)\n",
        "print(puntajef1)"
      ],
      "metadata": {
        "colab": {
          "base_uri": "https://localhost:8080/"
        },
        "id": "dpVw7tZ1gUja",
        "outputId": "e8a37688-4bbc-4b5a-fe9f-1ee2a045c171"
      },
      "execution_count": 862,
      "outputs": [
        {
          "output_type": "stream",
          "name": "stdout",
          "text": [
            "Puntaje F1 del modelo:\n",
            "0.6885245901639345\n"
          ]
        }
      ]
    },
    {
      "cell_type": "markdown",
      "source": [
        "#**Tabla**"
      ],
      "metadata": {
        "id": "ArgB0Gr7W1vU"
      }
    },
    {
      "cell_type": "code",
      "source": [
        "tabla = pd.DataFrame()"
      ],
      "metadata": {
        "id": "eJUQfjP4LF2S"
      },
      "execution_count": 863,
      "outputs": []
    },
    {
      "cell_type": "code",
      "source": [
        "tabla['Año']=año_\n",
        "tabla['X']= x_\n",
        "tabla['Y']= y_\n",
        "tabla['Exactitud']= exac_\n",
        "tabla['Precisión']= prec_\n",
        "tabla['Sensibilidad']= sensi_\n",
        "tabla['F1']= f1_"
      ],
      "metadata": {
        "id": "fKlYwWg5LWU1"
      },
      "execution_count": 864,
      "outputs": []
    },
    {
      "cell_type": "code",
      "source": [
        "tabla"
      ],
      "metadata": {
        "colab": {
          "base_uri": "https://localhost:8080/",
          "height": 175
        },
        "id": "4uj1txCGLZCv",
        "outputId": "112eb9fe-0a92-42d5-b191-8d0b2e4459c1"
      },
      "execution_count": 865,
      "outputs": [
        {
          "output_type": "execute_result",
          "data": {
            "text/plain": [
              "    Año         X           Y  Exactitud  Precisión  Sensibilidad        F1\n",
              "0  2020  TOTAL MX  TIPO GASTO   0.548980   0.000000      0.000000  0.000000\n",
              "1  2021  TOTAL MX  TIPO GASTO   0.515017   0.516691      0.775599  0.620209\n",
              "2  2022  TOTAL MX  TIPO GASTO   0.558747   1.000000      0.002950  0.005882\n",
              "3  2023  TOTAL MX  TIPO GASTO   0.525000   0.525000      1.000000  0.688525"
            ],
            "text/html": [
              "\n",
              "  <div id=\"df-a4acc9d7-13b9-45d6-8553-af517da5035f\">\n",
              "    <div class=\"colab-df-container\">\n",
              "      <div>\n",
              "<style scoped>\n",
              "    .dataframe tbody tr th:only-of-type {\n",
              "        vertical-align: middle;\n",
              "    }\n",
              "\n",
              "    .dataframe tbody tr th {\n",
              "        vertical-align: top;\n",
              "    }\n",
              "\n",
              "    .dataframe thead th {\n",
              "        text-align: right;\n",
              "    }\n",
              "</style>\n",
              "<table border=\"1\" class=\"dataframe\">\n",
              "  <thead>\n",
              "    <tr style=\"text-align: right;\">\n",
              "      <th></th>\n",
              "      <th>Año</th>\n",
              "      <th>X</th>\n",
              "      <th>Y</th>\n",
              "      <th>Exactitud</th>\n",
              "      <th>Precisión</th>\n",
              "      <th>Sensibilidad</th>\n",
              "      <th>F1</th>\n",
              "    </tr>\n",
              "  </thead>\n",
              "  <tbody>\n",
              "    <tr>\n",
              "      <th>0</th>\n",
              "      <td>2020</td>\n",
              "      <td>TOTAL MX</td>\n",
              "      <td>TIPO GASTO</td>\n",
              "      <td>0.548980</td>\n",
              "      <td>0.000000</td>\n",
              "      <td>0.000000</td>\n",
              "      <td>0.000000</td>\n",
              "    </tr>\n",
              "    <tr>\n",
              "      <th>1</th>\n",
              "      <td>2021</td>\n",
              "      <td>TOTAL MX</td>\n",
              "      <td>TIPO GASTO</td>\n",
              "      <td>0.515017</td>\n",
              "      <td>0.516691</td>\n",
              "      <td>0.775599</td>\n",
              "      <td>0.620209</td>\n",
              "    </tr>\n",
              "    <tr>\n",
              "      <th>2</th>\n",
              "      <td>2022</td>\n",
              "      <td>TOTAL MX</td>\n",
              "      <td>TIPO GASTO</td>\n",
              "      <td>0.558747</td>\n",
              "      <td>1.000000</td>\n",
              "      <td>0.002950</td>\n",
              "      <td>0.005882</td>\n",
              "    </tr>\n",
              "    <tr>\n",
              "      <th>3</th>\n",
              "      <td>2023</td>\n",
              "      <td>TOTAL MX</td>\n",
              "      <td>TIPO GASTO</td>\n",
              "      <td>0.525000</td>\n",
              "      <td>0.525000</td>\n",
              "      <td>1.000000</td>\n",
              "      <td>0.688525</td>\n",
              "    </tr>\n",
              "  </tbody>\n",
              "</table>\n",
              "</div>\n",
              "      <button class=\"colab-df-convert\" onclick=\"convertToInteractive('df-a4acc9d7-13b9-45d6-8553-af517da5035f')\"\n",
              "              title=\"Convert this dataframe to an interactive table.\"\n",
              "              style=\"display:none;\">\n",
              "        \n",
              "  <svg xmlns=\"http://www.w3.org/2000/svg\" height=\"24px\"viewBox=\"0 0 24 24\"\n",
              "       width=\"24px\">\n",
              "    <path d=\"M0 0h24v24H0V0z\" fill=\"none\"/>\n",
              "    <path d=\"M18.56 5.44l.94 2.06.94-2.06 2.06-.94-2.06-.94-.94-2.06-.94 2.06-2.06.94zm-11 1L8.5 8.5l.94-2.06 2.06-.94-2.06-.94L8.5 2.5l-.94 2.06-2.06.94zm10 10l.94 2.06.94-2.06 2.06-.94-2.06-.94-.94-2.06-.94 2.06-2.06.94z\"/><path d=\"M17.41 7.96l-1.37-1.37c-.4-.4-.92-.59-1.43-.59-.52 0-1.04.2-1.43.59L10.3 9.45l-7.72 7.72c-.78.78-.78 2.05 0 2.83L4 21.41c.39.39.9.59 1.41.59.51 0 1.02-.2 1.41-.59l7.78-7.78 2.81-2.81c.8-.78.8-2.07 0-2.86zM5.41 20L4 18.59l7.72-7.72 1.47 1.35L5.41 20z\"/>\n",
              "  </svg>\n",
              "      </button>\n",
              "      \n",
              "  <style>\n",
              "    .colab-df-container {\n",
              "      display:flex;\n",
              "      flex-wrap:wrap;\n",
              "      gap: 12px;\n",
              "    }\n",
              "\n",
              "    .colab-df-convert {\n",
              "      background-color: #E8F0FE;\n",
              "      border: none;\n",
              "      border-radius: 50%;\n",
              "      cursor: pointer;\n",
              "      display: none;\n",
              "      fill: #1967D2;\n",
              "      height: 32px;\n",
              "      padding: 0 0 0 0;\n",
              "      width: 32px;\n",
              "    }\n",
              "\n",
              "    .colab-df-convert:hover {\n",
              "      background-color: #E2EBFA;\n",
              "      box-shadow: 0px 1px 2px rgba(60, 64, 67, 0.3), 0px 1px 3px 1px rgba(60, 64, 67, 0.15);\n",
              "      fill: #174EA6;\n",
              "    }\n",
              "\n",
              "    [theme=dark] .colab-df-convert {\n",
              "      background-color: #3B4455;\n",
              "      fill: #D2E3FC;\n",
              "    }\n",
              "\n",
              "    [theme=dark] .colab-df-convert:hover {\n",
              "      background-color: #434B5C;\n",
              "      box-shadow: 0px 1px 3px 1px rgba(0, 0, 0, 0.15);\n",
              "      filter: drop-shadow(0px 1px 2px rgba(0, 0, 0, 0.3));\n",
              "      fill: #FFFFFF;\n",
              "    }\n",
              "  </style>\n",
              "\n",
              "      <script>\n",
              "        const buttonEl =\n",
              "          document.querySelector('#df-a4acc9d7-13b9-45d6-8553-af517da5035f button.colab-df-convert');\n",
              "        buttonEl.style.display =\n",
              "          google.colab.kernel.accessAllowed ? 'block' : 'none';\n",
              "\n",
              "        async function convertToInteractive(key) {\n",
              "          const element = document.querySelector('#df-a4acc9d7-13b9-45d6-8553-af517da5035f');\n",
              "          const dataTable =\n",
              "            await google.colab.kernel.invokeFunction('convertToInteractive',\n",
              "                                                     [key], {});\n",
              "          if (!dataTable) return;\n",
              "\n",
              "          const docLinkHtml = 'Like what you see? Visit the ' +\n",
              "            '<a target=\"_blank\" href=https://colab.research.google.com/notebooks/data_table.ipynb>data table notebook</a>'\n",
              "            + ' to learn more about interactive tables.';\n",
              "          element.innerHTML = '';\n",
              "          dataTable['output_type'] = 'display_data';\n",
              "          await google.colab.output.renderOutput(dataTable, element);\n",
              "          const docLink = document.createElement('div');\n",
              "          docLink.innerHTML = docLinkHtml;\n",
              "          element.appendChild(docLink);\n",
              "        }\n",
              "      </script>\n",
              "    </div>\n",
              "  </div>\n",
              "  "
            ]
          },
          "metadata": {},
          "execution_count": 865
        }
      ]
    }
  ]
}